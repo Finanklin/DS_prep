{
 "cells": [
  {
   "cell_type": "code",
   "execution_count": 50,
   "id": "52ecdda3",
   "metadata": {},
   "outputs": [],
   "source": [
    "import pandas as pd\n",
    "import matplotlib.pyplot as plt\n",
    "import numpy as np\n",
    "import seaborn as sns\n",
    "import sklearn\n",
    "from sklearn.pipeline import Pipeline, FeatureUnion\n",
    "from sklearn.impute import SimpleImputer, MissingIndicator\n",
    "from sklearn.preprocessing import StandardScaler, OneHotEncoder\n",
    "from sklearn.metrics import accuracy_score\n",
    "from sklearn.model_selection import cross_val_score,train_test_split\n",
    "from scipy import stats\n",
    "from sklearn.linear_model import LinearRegression\n",
    "from scipy.special import boxcox1p\n",
    "import csv\n",
    "import tensorflow as tf\n",
    "\n",
    "import warnings\n",
    "warnings.filterwarnings('ignore')"
   ]
  },
  {
   "cell_type": "code",
   "execution_count": 51,
   "id": "dbe5f32e",
   "metadata": {},
   "outputs": [
    {
     "name": "stdout",
     "output_type": "stream",
     "text": [
      "Environment specification:\n",
      "\n",
      "python 3.11.5\n",
      "numpy 1.24.3\n",
      "scipy 1.15.0\n",
      "seaborn 0.12.2\n",
      "sklearn 1.3.0\n",
      "pandas 2.0.3\n",
      "TensorFlow v2.15.0\n"
     ]
    }
   ],
   "source": [
    "import sys\n",
    "import scipy\n",
    "\n",
    "print('Environment specification:\\n')\n",
    "print('python', '%s.%s.%s' % sys.version_info[:3])\n",
    "\n",
    "for mod in np, scipy, sns, sklearn, pd:\n",
    "    print(mod.__name__, mod.__version__)\n",
    "    \n",
    "print(\"TensorFlow v\" + tf.__version__)"
   ]
  },
  {
   "cell_type": "code",
   "execution_count": 52,
   "id": "83e8f61d",
   "metadata": {},
   "outputs": [],
   "source": [
    "from sklearn.linear_model import Ridge, RidgeCV, ElasticNet, LassoCV, LassoLarsCV\n",
    "from sklearn.model_selection import cross_val_score, KFold\n",
    "from sklearn.pipeline import make_pipeline\n",
    "from sklearn.preprocessing import RobustScaler\n",
    "from sklearn.model_selection import GridSearchCV\n",
    "import xgboost as xgb\n",
    "\n",
    "from sklearn.linear_model import ElasticNet, Lasso, ElasticNetCV\n",
    "from sklearn.ensemble import  GradientBoostingRegressor\n",
    "from sklearn.kernel_ridge import KernelRidge\n",
    "from sklearn.base import RegressorMixin\n",
    "import lightgbm as lgb\n",
    "\n",
    "from sklearn.model_selection import cross_val_score\n",
    "from sklearn.metrics import make_scorer, mean_squared_error, r2_score\n",
    "from sklearn.model_selection import ShuffleSplit\n",
    "from sklearn.model_selection import learning_curve"
   ]
  },
  {
   "cell_type": "code",
   "execution_count": 53,
   "id": "4253a2fd",
   "metadata": {},
   "outputs": [
    {
     "name": "stdout",
     "output_type": "stream",
     "text": [
      "Environment specification:\n",
      "\n",
      "sklearn 1.3.0\n",
      "xgboost 2.1.3\n",
      "lightgbm 4.5.0\n"
     ]
    }
   ],
   "source": [
    "print('Environment specification:\\n')\n",
    "for mod in sklearn, xgb, lgb:\n",
    "    print(mod.__name__, mod.__version__)"
   ]
  },
  {
   "cell_type": "markdown",
   "id": "f2296498-605b-4c8d-9e75-483e047ac539",
   "metadata": {},
   "source": [
    "### 1. 缺失值处理\n",
    "* missing_data_detection\n",
    "* impute_na 处理空值，可以按照fill_value去填充\n",
    "* fill_na_by_group\n",
    "\n",
    "### 2. 异常值处理\n",
    "remove_outliers(dataset, threshold=3, columns=None, removed=False)\n",
    "- dataset: 输入的 Pandas DataFrame\n",
    "- threshold: Z-Score 阈值（默认 3）\n",
    "- columns: 指定需要检测的列（默认对所有数值列）\n",
    "- removed: 是否返回被移除的异常值\n",
    "\n",
    "### 3. 偏度处理\n",
    "* skew_processing, exclude_columns: 不需要处理的列列表\n",
    "\n",
    "### 4. Encoding\n",
    "* identify_column_types, 看哪些column是numerical，哪些column是string\n",
    "* dummy_encode\n",
    "* encode_column_with_ordinal\n",
    "\n",
    "### 5. 单变量分布可视化\n",
    "* diagnostic_plots\n",
    "\n",
    "### 6. 缺失值可视化\n",
    "6.1 检测缺失值比例，绘制柱状图展示缺失比例高的特征。\n",
    "missing_data_detection(data)\n",
    "\n",
    "### 7. Cross validation plotting\n",
    "* diagnostic_plots"
   ]
  },
  {
   "cell_type": "code",
   "execution_count": null,
   "id": "945d4358-7a22-4be4-ae27-f944c5115440",
   "metadata": {},
   "outputs": [],
   "source": []
  },
  {
   "cell_type": "code",
   "execution_count": 54,
   "id": "307d44a5",
   "metadata": {},
   "outputs": [],
   "source": [
    "def missing_data_detection(data):\n",
    "    col_nan = (data.isna().sum() / data.shape[0]).sort_values(ascending=False)\n",
    "    col_nan_filtered = col_nan[col_nan > 0.01]\n",
    "    plt.figure(figsize=(8, 5))\n",
    "    sns.set(font_scale=1.2)\n",
    "    col_nan_filtered.plot(kind=\"barh\", color=\"skyblue\")\n",
    "    plt.title(\"Features with the Highest Percentage of NaN Values (Sorted)\")\n",
    "    plt.xlabel(\"Percentage of Missing Values\")\n",
    "    plt.ylabel(\"Features\")\n",
    "    plt.tight_layout()\n",
    "    plt.show()\n",
    "\n",
    "def impute_na(data, columns, strategy, fill_value=None): #strategy: mean, median, most_frequent\n",
    "    if strategy == 'constant' and fill_value is None:\n",
    "        raise ValueError(\"When strategy is 'constant', fill_value must be provided.\")\n",
    "    imputer = SimpleImputer(missing_values=np.nan, strategy=strategy, fill_value=fill_value)\n",
    "    for column in columns:\n",
    "        data[[column]] = imputer.fit_transform(data[[column]])\n",
    "    return data\n",
    "\n",
    "def fill_na_by_group(data, target_column, groupby_column, func='median'):\n",
    "    if isinstance(func, str):\n",
    "        if func == 'median':\n",
    "            filler = lambda x: x.fillna(x.median())\n",
    "        elif func == 'mean':\n",
    "            filler = lambda x: x.fillna(x.mean())\n",
    "        else:\n",
    "            raise ValueError(\"Unsupported func. Use 'median', 'mean'.\")\n",
    "    elif callable(func):\n",
    "        filler = lambda x: x.fillna(func(x))\n",
    "    else:\n",
    "        raise ValueError(\"func must be a callable.\")\n",
    "\n",
    "    data[target_column] = data.groupby(groupby_column)[target_column].transform(filler)\n",
    "    return data\n",
    "    \n",
    "def remove_outliers(dataset, threshold=5, columns=None, method='drop'):\n",
    "    if columns is None:\n",
    "        columns = dataset.select_dtypes(include=['number']).columns\n",
    "    else:\n",
    "        numeric_columns = dataset.select_dtypes(include=['number']).columns\n",
    "        columns = [col for col in columns if col in numeric_columns]\n",
    "        if not columns:\n",
    "            raise ValueError(\"No valid numeric columns specified.\")\n",
    "\n",
    "    tmp = dataset.copy()\n",
    "\n",
    "    z_scores = np.abs(stats.zscore(tmp[columns]))\n",
    "\n",
    "    if method == 'drop':\n",
    "        non_outlier_mask = (z_scores < threshold).all(axis=1)\n",
    "        print(f\"Number of removed rows: {len(tmp) - non_outlier_mask.sum()}\")\n",
    "        return tmp[non_outlier_mask]\n",
    "    elif method == 'clip':\n",
    "        for col in columns:\n",
    "            col_mean = tmp[col].mean()\n",
    "            col_std = tmp[col].std()\n",
    "            lower_limit = col_mean - threshold * col_std\n",
    "            upper_limit = col_mean + threshold * col_std\n",
    "            tmp[col] = np.clip(tmp[col], lower_limit, upper_limit)\n",
    "        print(\"Outliers have been clipped to the specified threshold.\")\n",
    "        return tmp\n",
    "    else:\n",
    "        raise ValueError(\"Method must be either 'drop' or 'clip'.\")\n",
    "    \n",
    "def skew_processing(all_data, exclude_columns=None):\n",
    "    \"\"\"\n",
    "    Process skewed numeric features with Box-Cox transformation.\n",
    "    \"\"\"\n",
    "    if exclude_columns is None:\n",
    "        exclude_columns = []\n",
    "\n",
    "    num_features = all_data.select_dtypes(include=['int64', 'float64']).columns\n",
    "    \n",
    "    numeric_features = [feat for feat in num_features if feat not in exclude_columns]\n",
    "\n",
    "    # selecting columns with skew more than 0.5\n",
    "    skewed_features = all_data[num_features].apply(lambda x: x.dropna().skew())\n",
    "    skewed_features = skewed_features[skewed_features > 0.5].index\n",
    "    print(\"\\nHighly skewed features: \\n\\n{}\".format(skewed_features.tolist()))\n",
    "    \n",
    "    lambda_ = 0.15\n",
    "    for feature in skewed_features:\n",
    "        all_data[feature] = boxcox1p(all_data[feature], lambda_)\n",
    "        \n",
    "    return all_data\n",
    "\n",
    "def identify_column_types(df):\n",
    "    column_types = {\n",
    "        'numeric': [],\n",
    "        'string': []}\n",
    "\n",
    "    for col in df.columns:\n",
    "        if pd.api.types.is_numeric_dtype(df[col]):\n",
    "            column_types['numeric'].append(col)\n",
    "        elif pd.api.types.is_string_dtype(df[col]):\n",
    "            column_types['string'].append(col)\n",
    "    return column_types\n",
    "\n",
    "#result = identify_column_types(df)\n",
    "#print(\"Numeric columns:\", result['numeric'])\n",
    "#print(\"String columns:\", result['string'])\n",
    "\n",
    "def dummy_encode(data, column):\n",
    "    dummy_data = pd.get_dummies(data[column], drop_first=True, prefix=column)\n",
    "    data = pd.concat([data, dummy_data], axis=1)\n",
    "    data = data.drop(columns=[column])  # Drop the original column after encoding\n",
    "    return data\n",
    "\n",
    "######################################################\n",
    "# perform ordinal encoding on the 'feature' column\n",
    "#df['feature_map'] = df['feature'].map(the_map)\n",
    "\n",
    "from sklearn.preprocessing import OrdinalEncoder\n",
    "\n",
    "def encode_column_with_ordinal(data, column): \n",
    "    encoder = OrdinalEncoder()\n",
    "    encoded_values = encoder.fit_transform(data[[column]])\n",
    "    data[column] = encoded_values\n",
    "    return data\n",
    "\n",
    "def diagnostic_plots(df, variable):\n",
    "    plt.figure(figsize=(16, 4))\n",
    "    # histogram\n",
    "    plt.subplot(1, 3, 1)\n",
    "    sns.histplot(df[variable], bins=30)\n",
    "    plt.title('Histogram')\n",
    "    # Q-Q plot\n",
    "    plt.subplot(1, 3, 2)\n",
    "    stats.probplot(df[variable], dist=\"norm\", plot=plt)\n",
    "    plt.ylabel('Variable quantiles')\n",
    "    # boxplot\n",
    "    plt.subplot(1, 3, 3)\n",
    "    sns.boxplot(y=df[variable])\n",
    "    plt.title('Boxplot')\n",
    "    plt.show()\n",
    "\n",
    "\n",
    "def plot_cross_val_scores(estimator, X, y, scoring='r2', cv=5, param_name=None, param_values=None):\n",
    "    if scoring == 'rmse':\n",
    "        scorer = make_scorer(mean_squared_error, squared=False)  # RMSE\n",
    "        score_label = 'RMSE'\n",
    "    elif scoring == 'r2':\n",
    "        scorer = make_scorer(r2_score)  # R^2\n",
    "        score_label = 'R^2'\n",
    "    else:\n",
    "        raise ValueError(\"Unsupported scoring method. Use 'rmse' or 'r2'.\")\n",
    "\n",
    "    if param_name and param_values:\n",
    "        scores = []\n",
    "        for param_value in param_values:\n",
    "            # Dynamically set the parameter value for the estimator\n",
    "            estimator.set_params(**{param_name: param_value})\n",
    "            # Perform cross-validation\n",
    "            cv_scores = cross_val_score(estimator, X, y, cv=cv, scoring=scorer)\n",
    "            scores.append(np.mean(cv_scores))\n",
    "        \n",
    "        # Plot the cross-validation scores\n",
    "        plt.figure(figsize=(8, 5))\n",
    "        plt.plot(param_values, scores, marker='o', label=f'Cross-Validation {score_label}')\n",
    "        plt.title(f'Cross-Validation Scores vs {param_name}')\n",
    "        plt.xlabel(param_name)\n",
    "        plt.ylabel(score_label)\n",
    "        plt.grid(True)\n",
    "        plt.legend()\n",
    "        plt.show()\n",
    "    else:\n",
    "        # If no hyperparameter is specified, plot the cross-validation scores for the model as is\n",
    "        cv_scores = cross_val_score(estimator, X, y, cv=cv, scoring=scorer)\n",
    "        print(f\"Cross-Validation {score_label} Scores: {cv_scores}\")\n",
    "        print(f\"Mean {score_label}: {np.mean(cv_scores):.4f}\")"
   ]
  },
  {
   "cell_type": "code",
   "execution_count": 55,
   "id": "70d16be6-b34b-47fd-b074-3fe6cc98a083",
   "metadata": {},
   "outputs": [],
   "source": [
    "from sklearn.model_selection import GridSearchCV, RandomizedSearchCV, learning_curve\n",
    "from sklearn.linear_model import ElasticNet, LinearRegression\n",
    "from sklearn.preprocessing import RobustScaler\n",
    "from sklearn.metrics import r2_score\n",
    "from sklearn.linear_model import HuberRegressor\n",
    "\n",
    "def ols_regression(X_train, y_train, X_test, y_test, loss_type='normal'):\n",
    "    # Scale the features and target using RobustScaler\n",
    "    scaler_X = RobustScaler()\n",
    "    scaler_y = RobustScaler()\n",
    "\n",
    "    X_train_scaled = scaler_X.fit_transform(X_train)\n",
    "    X_test_scaled = scaler_X.transform(X_test)\n",
    "\n",
    "    y_train_scaled = scaler_y.fit_transform(y_train.values.reshape(-1, 1)).flatten()\n",
    "    y_test_scaled = scaler_y.transform(y_test.values.reshape(-1, 1)).flatten()\n",
    "\n",
    "    if loss_type == 'normal':\n",
    "        final_model = LinearRegression()\n",
    "    elif loss_type == 'huber':\n",
    "        final_model = HuberRegressor()\n",
    "    else:\n",
    "        raise ValueError(\"Unsupported loss type. Choose 'normal' or 'huber'.\")\n",
    "\n",
    "    final_model.fit(X_train_scaled, y_train_scaled)\n",
    "\n",
    "    y_pred_scaled = final_model.predict(X_test_scaled)\n",
    "    y_pred = scaler_y.inverse_transform(y_pred_scaled.reshape(-1, 1)).flatten()\n",
    "\n",
    "    r2 = r2_score(y_test, y_pred)\n",
    "    print(\"Test\", r2)\n",
    "\n",
    "    return y_pred, r2, final_model\n",
    "\n",
    "# y_pred, r2, model = ols_regression(X_train, y_train, X_test, y_test, loss_type='normal')\n",
    "# y_pred_huber, r2_huber, model_huber = ols_regression(X_train, y_train, X_test, y_test, loss_type='huber')\n"
   ]
  },
  {
   "cell_type": "code",
   "execution_count": 56,
   "id": "673cd117-9350-4a38-82a3-04a550c87c2a",
   "metadata": {},
   "outputs": [],
   "source": [
    "from sklearn.model_selection import cross_val_score\n",
    "from sklearn.linear_model import Lasso\n",
    "from sklearn.preprocessing import RobustScaler\n",
    "\n",
    "def lasso_regression(X_train, y_train, X_test, y_test, alpha_values, cv=5, X_val=None, y_val=None):\n",
    "    scaler_X = RobustScaler()\n",
    "    scaler_y = RobustScaler()\n",
    "\n",
    "    X_train_scaled = scaler_X.fit_transform(X_train)\n",
    "    X_test_scaled = scaler_X.transform(X_test)\n",
    "\n",
    "    y_train_scaled = scaler_y.fit_transform(y_train.values.reshape(-1, 1)).flatten()\n",
    "    y_test_scaled = scaler_y.transform(y_test.values.reshape(-1, 1)).flatten()\n",
    "\n",
    "    if X_val is not None and y_val is not None:\n",
    "        X_val_scaled = scaler_X.transform(X_val)\n",
    "        y_val_scaled = scaler_y.transform(y_val.values.reshape(-1, 1)).flatten()\n",
    "\n",
    "        best_alpha = None\n",
    "        best_r2 = -np.inf\n",
    "\n",
    "        for alpha in alpha_values:\n",
    "            lasso_model = Lasso(alpha=alpha)\n",
    "            lasso_model.fit(X_train_scaled, y_train_scaled)\n",
    "            val_r2 = lasso_model.score(X_val_scaled, y_val_scaled)\n",
    "\n",
    "            if val_r2 > best_r2:\n",
    "                best_r2 = val_r2\n",
    "                best_alpha = alpha\n",
    "\n",
    "        print(f\"Best alpha (validation set): {best_alpha}\")\n",
    "        print(f\"Best validation R^2: {best_r2:.4f}\")\n",
    "\n",
    "    else:\n",
    "        # Tune alpha using cross-validation\n",
    "        best_alpha = None\n",
    "        best_r2 = -np.inf\n",
    "\n",
    "        for alpha in alpha_values:\n",
    "            lasso_model = Lasso(alpha=alpha)\n",
    "            cv_scores = cross_val_score(lasso_model, X_train_scaled, y_train_scaled, cv=cv, scoring='r2')\n",
    "            mean_r2 = np.mean(cv_scores)\n",
    "\n",
    "            if mean_r2 > best_r2:\n",
    "                best_r2 = mean_r2\n",
    "                best_alpha = alpha\n",
    "\n",
    "        print(f\"Best alpha (cross-validation): {best_alpha}\")\n",
    "        print(f\"Test R2: {best_r2:.4f}\")\n",
    "\n",
    "    final_model = Lasso(alpha=best_alpha)\n",
    "    final_model.fit(X_train_scaled, y_train_scaled)\n",
    "\n",
    "    y_pred_scaled = final_model.predict(X_test_scaled)\n",
    "    y_pred = scaler_y.inverse_transform(y_pred_scaled.reshape(-1, 1)).flatten()\n",
    "\n",
    "    r2 = final_model.score(X_test_scaled, y_test_scaled)\n",
    "\n",
    "    return best_alpha, y_pred, r2, final_model"
   ]
  },
  {
   "cell_type": "code",
   "execution_count": 57,
   "id": "17493c46-ad80-42ad-886f-1baedbe9c5bb",
   "metadata": {},
   "outputs": [],
   "source": [
    "def elastic_net_regression(X_train, y_train, X_test, y_test, l2_ratios, l1_ratios, cv=4, X_val=None, y_val=None):\n",
    "    scaler_X = RobustScaler()\n",
    "    scaler_y = RobustScaler()\n",
    "\n",
    "    X_train_scaled = scaler_X.fit_transform(X_train)\n",
    "    X_test_scaled = scaler_X.transform(X_test)\n",
    "\n",
    "    y_train_scaled = scaler_y.fit_transform(y_train.values.reshape(-1, 1)).flatten()\n",
    "    y_test_scaled = scaler_y.transform(y_test.values.reshape(-1, 1)).flatten()\n",
    "\n",
    "    if X_val is not None and y_val is not None:\n",
    "        X_val_scaled = scaler_X.transform(X_val)\n",
    "        y_val_scaled = scaler_y.transform(y_val.values.reshape(-1, 1)).flatten()\n",
    "\n",
    "        best_params = None\n",
    "        best_r2 = -np.inf\n",
    "\n",
    "        for l2_ratio in l2_ratios:\n",
    "            for l1_ratio in l1_ratios:\n",
    "                en_model = ElasticNet(alpha=l2_ratio, l1_ratio=l1_ratio, random_state=42)\n",
    "                en_model.fit(X_train_scaled, y_train_scaled)\n",
    "                val_r2 = en_model.score(X_val_scaled, y_val_scaled)\n",
    "\n",
    "                if val_r2 > best_r2:\n",
    "                    best_r2 = val_r2\n",
    "                    best_params = {\"l2_ratio\": l2_ratio, \"l1_ratio\": l1_ratio}\n",
    "\n",
    "        print(f\"Best parameters (validation set): {best_params}\")\n",
    "        print(f\"Best validation R^2: {best_r2:.4f}\")\n",
    "\n",
    "    else:\n",
    "        # Use GridSearchCV for cross-validation tuning\n",
    "        param_grid = {\n",
    "            'alpha': l2_ratios,\n",
    "            'l1_ratio': l1_ratios\n",
    "        }\n",
    "        grid_search = GridSearchCV(\n",
    "            ElasticNet(random_state=42),\n",
    "            param_grid,\n",
    "            cv=cv,\n",
    "            scoring='r2',\n",
    "            n_jobs=-1\n",
    "        )\n",
    "        grid_search.fit(X_train_scaled, y_train_scaled)\n",
    "\n",
    "        best_params = {\n",
    "            \"l2_ratio\": grid_search.best_params_[\"alpha\"],\n",
    "            \"l1_ratio\": grid_search.best_params_[\"l1_ratio\"]\n",
    "        }\n",
    "        best_r2 = grid_search.best_score_\n",
    "\n",
    "        print(f\"Best parameters (cross-validation): {best_params}\")\n",
    "        print(f\"Best cross-validated R^2: {best_r2:.4f}\")\n",
    "\n",
    "    final_model = ElasticNet(alpha=best_params[\"l2_ratio\"], l1_ratio=best_params[\"l1_ratio\"], random_state=42)\n",
    "    final_model.fit(X_train_scaled, y_train_scaled)\n",
    "\n",
    "    y_pred_scaled = final_model.predict(X_test_scaled)\n",
    "    y_pred = scaler_y.inverse_transform(y_pred_scaled.reshape(-1, 1)).flatten()\n",
    "\n",
    "    r2 = r2_score(y_test, y_pred)\n",
    "    print(f\"Test R^2: {r2:.4f}\")\n",
    "\n",
    "    return best_params, y_pred, r2, final_model"
   ]
  },
  {
   "cell_type": "code",
   "execution_count": 58,
   "id": "43635c53-6252-4b23-bb83-b35d767eda87",
   "metadata": {},
   "outputs": [
    {
     "data": {
      "text/plain": [
       "'\\nl2_ratios = [0.1, 0.01, 0.001]\\nl1_ratios = [0.1, 0.5, 0.9]\\n\\nbest_params, y_pred, r2, EN_model = elastic_net_regression(\\n    X_train, y_train, X_test, y_test,\\n    l2_ratios=l2_ratios, l1_ratios=l1_ratios, cv=5)\\n\\nprint(\"Best Parameters:\", best_params)\\nprint(\"Test R^2:\", r2)\\n'"
      ]
     },
     "execution_count": 58,
     "metadata": {},
     "output_type": "execute_result"
    }
   ],
   "source": [
    "'''\n",
    "l2_ratios = [0.1, 0.01, 0.001]\n",
    "l1_ratios = [0.1, 0.5, 0.9]\n",
    "\n",
    "best_params, y_pred, r2, EN_model = elastic_net_regression(\n",
    "    X_train, y_train, X_test, y_test,\n",
    "    l2_ratios=l2_ratios, l1_ratios=l1_ratios, cv=5)\n",
    "\n",
    "print(\"Best Parameters:\", best_params)\n",
    "print(\"Test R^2:\", r2)\n",
    "'''"
   ]
  },
  {
   "cell_type": "code",
   "execution_count": 59,
   "id": "d4534c22-dd48-4f80-b4b0-4021321e7512",
   "metadata": {},
   "outputs": [],
   "source": [
    "from sklearn.ensemble import RandomForestRegressor, GradientBoostingRegressor\n",
    "\n",
    "def random_forest_regression(X_train, y_train, X_test, y_test, n_estimators=50, max_depth=None):\n",
    "    scaler_X = RobustScaler()\n",
    "    scaler_y = RobustScaler()\n",
    "\n",
    "    # Scale the features\n",
    "    X_train_scaled = scaler_X.fit_transform(X_train)\n",
    "    X_test_scaled = scaler_X.transform(X_test)\n",
    "    y_train_scaled = scaler_y.fit_transform(y_train.values.reshape(-1, 1)).flatten()\n",
    "    y_test_scaled = scaler_y.transform(y_test.values.reshape(-1, 1)).flatten()\n",
    "\n",
    "    # Train the Random Forest model with specified parameters\n",
    "    final_model = RandomForestRegressor(\n",
    "        n_estimators=n_estimators,\n",
    "        max_depth=max_depth,\n",
    "        random_state=42\n",
    "    )\n",
    "    final_model.fit(X_train_scaled, y_train_scaled)\n",
    "\n",
    "    y_pred_scaled = final_model.predict(X_test_scaled)\n",
    "    y_pred = scaler_y.inverse_transform(y_pred_scaled.reshape(-1, 1)).flatten()\n",
    "    r2 = r2_score(y_test, y_pred)\n",
    "\n",
    "    return y_pred, r2, final_model"
   ]
  },
  {
   "cell_type": "code",
   "execution_count": 60,
   "id": "ca88b001-734b-49a6-a3d0-eff1e0d9ef0a",
   "metadata": {},
   "outputs": [
    {
     "data": {
      "text/plain": [
       "'\\ny_pred_rf, r2_rf, model_rf = random_forest_regression(X_train, y_train, X_test, y_test, n_estimators=50, max_depth=5)\\n'"
      ]
     },
     "execution_count": 60,
     "metadata": {},
     "output_type": "execute_result"
    }
   ],
   "source": [
    "'''\n",
    "y_pred_rf, r2_rf, model_rf = random_forest_regression(X_train, y_train, X_test, y_test, n_estimators=50, max_depth=5)\n",
    "'''"
   ]
  },
  {
   "cell_type": "code",
   "execution_count": 61,
   "id": "fc7745d2-4063-4152-9a4e-de129c31334e",
   "metadata": {},
   "outputs": [],
   "source": [
    "from lightgbm import LGBMRegressor\n",
    "from sklearn.preprocessing import RobustScaler, StandardScaler, MinMaxScaler\n",
    "\n",
    "def lgbm_regression(X_train, y_train, X_test, y_test, param_grid, cv=5, scaler_type='RobustScaler'):\n",
    "    if scaler_type == 'RobustScaler':\n",
    "        scaler_X = RobustScaler()\n",
    "    elif scaler_type == 'StandardScaler':\n",
    "        scaler_X = StandardScaler()\n",
    "    elif scaler_type == 'MinMaxScaler':\n",
    "        scaler_X = MinMaxScaler()\n",
    "    else:\n",
    "        raise ValueError(\"Unsupported scaler type. Choose from 'RobustScaler', 'StandardScaler', or 'MinMaxScaler'.\")\n",
    "\n",
    "    X_train_scaled = scaler_X.fit_transform(X_train)\n",
    "    X_test_scaled = scaler_X.transform(X_test)\n",
    "\n",
    "    # Use GridSearchCV for cross-validation tuning\n",
    "    grid_search = GridSearchCV(\n",
    "        LGBMRegressor(random_state=42),\n",
    "        param_grid,\n",
    "        cv=cv,\n",
    "        scoring='r2',\n",
    "        n_jobs=-1)\n",
    "    grid_search.fit(X_train_scaled, y_train)\n",
    "\n",
    "    best_params = grid_search.best_params_\n",
    "    best_r2 = grid_search.best_score_\n",
    "\n",
    "    print(f\"Best parameters (cross-validation): {best_params}\")\n",
    "    print(f\"Best cross-validated R^2: {best_r2:.4f}\")\n",
    "\n",
    "    # Train the model with the best parameters on the entire training set\n",
    "    final_model = LGBMRegressor(\n",
    "        **best_params,\n",
    "        random_state=42)\n",
    "    final_model.fit(X_train_scaled, y_train)\n",
    "\n",
    "    y_pred = final_model.predict(X_test_scaled)\n",
    "    r2 = final_model.score(X_test_scaled, y_test)\n",
    "\n",
    "    return best_params, y_pred, r2, final_model"
   ]
  },
  {
   "cell_type": "code",
   "execution_count": 62,
   "id": "a382477d-4df1-4b53-8aa8-8aec57211df3",
   "metadata": {},
   "outputs": [],
   "source": [
    "from sklearn.model_selection import GridSearchCV, learning_curve\n",
    "from sklearn.preprocessing import RobustScaler, StandardScaler, MinMaxScaler\n",
    "\n",
    "def plot_learning_curve(estimator, X, y, ylim=None, cv=None, n_jobs=-1, train_sizes=np.linspace(0.1, 1.0, 5)): #can cv = 3 to make it faster\n",
    "    train_sizes, train_scores, test_scores = learning_curve(\n",
    "        estimator, X, y, cv=cv, n_jobs=n_jobs, train_sizes=train_sizes, scoring='r2')\n",
    "\n",
    "    train_scores_mean = np.mean(train_scores, axis=1)\n",
    "    train_scores_std = np.std(train_scores, axis=1)\n",
    "    test_scores_mean = np.mean(test_scores, axis=1)\n",
    "    test_scores_std = np.std(test_scores, axis=1)\n",
    "\n",
    "    plt.figure(figsize=(10, 6))\n",
    "    if ylim is not None:\n",
    "        plt.ylim(*ylim)\n",
    "\n",
    "    plt.fill_between(train_sizes, train_scores_mean - train_scores_std,\n",
    "                     train_scores_mean + train_scores_std, alpha=0.1, color=\"r\")\n",
    "    plt.fill_between(train_sizes, test_scores_mean - test_scores_std,\n",
    "                     test_scores_mean + test_scores_std, alpha=0.1, color=\"g\")\n",
    "    plt.plot(train_sizes, train_scores_mean, 'o-', color=\"r\", label=\"Training score\")\n",
    "    plt.plot(train_sizes, test_scores_mean, 'o-', color=\"g\", label=\"Cross-validation score\")\n",
    "\n",
    "    plt.title(\"Learning Curve\")\n",
    "    plt.xlabel(\"Training Size\")\n",
    "    plt.ylabel(\"Score\")\n",
    "    plt.legend(loc=\"best\")\n",
    "    plt.grid()\n",
    "    plt.show()"
   ]
  },
  {
   "cell_type": "markdown",
   "id": "6a98143c-58b4-4a21-9537-2f5e41cfd430",
   "metadata": {},
   "source": [
    "# Car Price prediction"
   ]
  },
  {
   "cell_type": "code",
   "execution_count": 63,
   "id": "52d548b9-2ec7-40e8-9db1-9e239124119b",
   "metadata": {},
   "outputs": [],
   "source": [
    "car_data = pd.read_csv(\"train/train.csv\")"
   ]
  },
  {
   "cell_type": "code",
   "execution_count": 64,
   "id": "5cef66e3-8164-4f1f-af89-512312909783",
   "metadata": {},
   "outputs": [
    {
     "data": {
      "text/html": [
       "<div>\n",
       "<style scoped>\n",
       "    .dataframe tbody tr th:only-of-type {\n",
       "        vertical-align: middle;\n",
       "    }\n",
       "\n",
       "    .dataframe tbody tr th {\n",
       "        vertical-align: top;\n",
       "    }\n",
       "\n",
       "    .dataframe thead th {\n",
       "        text-align: right;\n",
       "    }\n",
       "</style>\n",
       "<table border=\"1\" class=\"dataframe\">\n",
       "  <thead>\n",
       "    <tr style=\"text-align: right;\">\n",
       "      <th></th>\n",
       "      <th>id</th>\n",
       "      <th>brand</th>\n",
       "      <th>model</th>\n",
       "      <th>model_year</th>\n",
       "      <th>milage</th>\n",
       "      <th>fuel_type</th>\n",
       "      <th>engine</th>\n",
       "      <th>transmission</th>\n",
       "      <th>ext_col</th>\n",
       "      <th>int_col</th>\n",
       "      <th>accident</th>\n",
       "      <th>clean_title</th>\n",
       "      <th>price</th>\n",
       "    </tr>\n",
       "  </thead>\n",
       "  <tbody>\n",
       "    <tr>\n",
       "      <th>0</th>\n",
       "      <td>0</td>\n",
       "      <td>MINI</td>\n",
       "      <td>Cooper S Base</td>\n",
       "      <td>2007</td>\n",
       "      <td>213000</td>\n",
       "      <td>Gasoline</td>\n",
       "      <td>172.0HP 1.6L 4 Cylinder Engine Gasoline Fuel</td>\n",
       "      <td>A/T</td>\n",
       "      <td>Yellow</td>\n",
       "      <td>Gray</td>\n",
       "      <td>None reported</td>\n",
       "      <td>Yes</td>\n",
       "      <td>4200</td>\n",
       "    </tr>\n",
       "    <tr>\n",
       "      <th>1</th>\n",
       "      <td>1</td>\n",
       "      <td>Lincoln</td>\n",
       "      <td>LS V8</td>\n",
       "      <td>2002</td>\n",
       "      <td>143250</td>\n",
       "      <td>Gasoline</td>\n",
       "      <td>252.0HP 3.9L 8 Cylinder Engine Gasoline Fuel</td>\n",
       "      <td>A/T</td>\n",
       "      <td>Silver</td>\n",
       "      <td>Beige</td>\n",
       "      <td>At least 1 accident or damage reported</td>\n",
       "      <td>Yes</td>\n",
       "      <td>4999</td>\n",
       "    </tr>\n",
       "    <tr>\n",
       "      <th>2</th>\n",
       "      <td>2</td>\n",
       "      <td>Chevrolet</td>\n",
       "      <td>Silverado 2500 LT</td>\n",
       "      <td>2002</td>\n",
       "      <td>136731</td>\n",
       "      <td>E85 Flex Fuel</td>\n",
       "      <td>320.0HP 5.3L 8 Cylinder Engine Flex Fuel Capab...</td>\n",
       "      <td>A/T</td>\n",
       "      <td>Blue</td>\n",
       "      <td>Gray</td>\n",
       "      <td>None reported</td>\n",
       "      <td>Yes</td>\n",
       "      <td>13900</td>\n",
       "    </tr>\n",
       "    <tr>\n",
       "      <th>3</th>\n",
       "      <td>3</td>\n",
       "      <td>Genesis</td>\n",
       "      <td>G90 5.0 Ultimate</td>\n",
       "      <td>2017</td>\n",
       "      <td>19500</td>\n",
       "      <td>Gasoline</td>\n",
       "      <td>420.0HP 5.0L 8 Cylinder Engine Gasoline Fuel</td>\n",
       "      <td>Transmission w/Dual Shift Mode</td>\n",
       "      <td>Black</td>\n",
       "      <td>Black</td>\n",
       "      <td>None reported</td>\n",
       "      <td>Yes</td>\n",
       "      <td>45000</td>\n",
       "    </tr>\n",
       "    <tr>\n",
       "      <th>4</th>\n",
       "      <td>4</td>\n",
       "      <td>Mercedes-Benz</td>\n",
       "      <td>Metris Base</td>\n",
       "      <td>2021</td>\n",
       "      <td>7388</td>\n",
       "      <td>Gasoline</td>\n",
       "      <td>208.0HP 2.0L 4 Cylinder Engine Gasoline Fuel</td>\n",
       "      <td>7-Speed A/T</td>\n",
       "      <td>Black</td>\n",
       "      <td>Beige</td>\n",
       "      <td>None reported</td>\n",
       "      <td>Yes</td>\n",
       "      <td>97500</td>\n",
       "    </tr>\n",
       "    <tr>\n",
       "      <th>...</th>\n",
       "      <td>...</td>\n",
       "      <td>...</td>\n",
       "      <td>...</td>\n",
       "      <td>...</td>\n",
       "      <td>...</td>\n",
       "      <td>...</td>\n",
       "      <td>...</td>\n",
       "      <td>...</td>\n",
       "      <td>...</td>\n",
       "      <td>...</td>\n",
       "      <td>...</td>\n",
       "      <td>...</td>\n",
       "      <td>...</td>\n",
       "    </tr>\n",
       "    <tr>\n",
       "      <th>188528</th>\n",
       "      <td>188528</td>\n",
       "      <td>Cadillac</td>\n",
       "      <td>Escalade ESV Platinum</td>\n",
       "      <td>2017</td>\n",
       "      <td>49000</td>\n",
       "      <td>Gasoline</td>\n",
       "      <td>420.0HP 6.2L 8 Cylinder Engine Gasoline Fuel</td>\n",
       "      <td>Transmission w/Dual Shift Mode</td>\n",
       "      <td>White</td>\n",
       "      <td>Beige</td>\n",
       "      <td>None reported</td>\n",
       "      <td>Yes</td>\n",
       "      <td>27500</td>\n",
       "    </tr>\n",
       "    <tr>\n",
       "      <th>188529</th>\n",
       "      <td>188529</td>\n",
       "      <td>Mercedes-Benz</td>\n",
       "      <td>AMG C 43 AMG C 43 4MATIC</td>\n",
       "      <td>2018</td>\n",
       "      <td>28600</td>\n",
       "      <td>Gasoline</td>\n",
       "      <td>385.0HP 3.0L V6 Cylinder Engine Gasoline Fuel</td>\n",
       "      <td>8-Speed A/T</td>\n",
       "      <td>White</td>\n",
       "      <td>Black</td>\n",
       "      <td>At least 1 accident or damage reported</td>\n",
       "      <td>Yes</td>\n",
       "      <td>30000</td>\n",
       "    </tr>\n",
       "    <tr>\n",
       "      <th>188530</th>\n",
       "      <td>188530</td>\n",
       "      <td>Mercedes-Benz</td>\n",
       "      <td>AMG GLC 63 Base 4MATIC</td>\n",
       "      <td>2021</td>\n",
       "      <td>13650</td>\n",
       "      <td>Gasoline</td>\n",
       "      <td>469.0HP 4.0L 8 Cylinder Engine Gasoline Fuel</td>\n",
       "      <td>7-Speed A/T</td>\n",
       "      <td>White</td>\n",
       "      <td>Black</td>\n",
       "      <td>None reported</td>\n",
       "      <td>Yes</td>\n",
       "      <td>86900</td>\n",
       "    </tr>\n",
       "    <tr>\n",
       "      <th>188531</th>\n",
       "      <td>188531</td>\n",
       "      <td>Audi</td>\n",
       "      <td>S5 3.0T Prestige</td>\n",
       "      <td>2022</td>\n",
       "      <td>13895</td>\n",
       "      <td>Gasoline</td>\n",
       "      <td>3.0L</td>\n",
       "      <td>1-Speed Automatic</td>\n",
       "      <td>Daytona Gray Pearl Effect</td>\n",
       "      <td>Black</td>\n",
       "      <td>None reported</td>\n",
       "      <td>NaN</td>\n",
       "      <td>84900</td>\n",
       "    </tr>\n",
       "    <tr>\n",
       "      <th>188532</th>\n",
       "      <td>188532</td>\n",
       "      <td>Porsche</td>\n",
       "      <td>Macan Base</td>\n",
       "      <td>2016</td>\n",
       "      <td>59500</td>\n",
       "      <td>Gasoline</td>\n",
       "      <td>252.0HP 2.0L 4 Cylinder Engine Gasoline Fuel</td>\n",
       "      <td>Transmission w/Dual Shift Mode</td>\n",
       "      <td>White</td>\n",
       "      <td>Black</td>\n",
       "      <td>None reported</td>\n",
       "      <td>Yes</td>\n",
       "      <td>28995</td>\n",
       "    </tr>\n",
       "  </tbody>\n",
       "</table>\n",
       "<p>188533 rows × 13 columns</p>\n",
       "</div>"
      ],
      "text/plain": [
       "            id          brand                     model  model_year  milage  \\\n",
       "0            0           MINI             Cooper S Base        2007  213000   \n",
       "1            1        Lincoln                     LS V8        2002  143250   \n",
       "2            2      Chevrolet         Silverado 2500 LT        2002  136731   \n",
       "3            3        Genesis          G90 5.0 Ultimate        2017   19500   \n",
       "4            4  Mercedes-Benz               Metris Base        2021    7388   \n",
       "...        ...            ...                       ...         ...     ...   \n",
       "188528  188528       Cadillac     Escalade ESV Platinum        2017   49000   \n",
       "188529  188529  Mercedes-Benz  AMG C 43 AMG C 43 4MATIC        2018   28600   \n",
       "188530  188530  Mercedes-Benz    AMG GLC 63 Base 4MATIC        2021   13650   \n",
       "188531  188531           Audi          S5 3.0T Prestige        2022   13895   \n",
       "188532  188532        Porsche                Macan Base        2016   59500   \n",
       "\n",
       "            fuel_type                                             engine  \\\n",
       "0            Gasoline       172.0HP 1.6L 4 Cylinder Engine Gasoline Fuel   \n",
       "1            Gasoline       252.0HP 3.9L 8 Cylinder Engine Gasoline Fuel   \n",
       "2       E85 Flex Fuel  320.0HP 5.3L 8 Cylinder Engine Flex Fuel Capab...   \n",
       "3            Gasoline       420.0HP 5.0L 8 Cylinder Engine Gasoline Fuel   \n",
       "4            Gasoline       208.0HP 2.0L 4 Cylinder Engine Gasoline Fuel   \n",
       "...               ...                                                ...   \n",
       "188528       Gasoline       420.0HP 6.2L 8 Cylinder Engine Gasoline Fuel   \n",
       "188529       Gasoline      385.0HP 3.0L V6 Cylinder Engine Gasoline Fuel   \n",
       "188530       Gasoline       469.0HP 4.0L 8 Cylinder Engine Gasoline Fuel   \n",
       "188531       Gasoline                                               3.0L   \n",
       "188532       Gasoline       252.0HP 2.0L 4 Cylinder Engine Gasoline Fuel   \n",
       "\n",
       "                          transmission                    ext_col int_col  \\\n",
       "0                                  A/T                     Yellow    Gray   \n",
       "1                                  A/T                     Silver   Beige   \n",
       "2                                  A/T                       Blue    Gray   \n",
       "3       Transmission w/Dual Shift Mode                      Black   Black   \n",
       "4                          7-Speed A/T                      Black   Beige   \n",
       "...                                ...                        ...     ...   \n",
       "188528  Transmission w/Dual Shift Mode                      White   Beige   \n",
       "188529                     8-Speed A/T                      White   Black   \n",
       "188530                     7-Speed A/T                      White   Black   \n",
       "188531               1-Speed Automatic  Daytona Gray Pearl Effect   Black   \n",
       "188532  Transmission w/Dual Shift Mode                      White   Black   \n",
       "\n",
       "                                      accident clean_title  price  \n",
       "0                                None reported         Yes   4200  \n",
       "1       At least 1 accident or damage reported         Yes   4999  \n",
       "2                                None reported         Yes  13900  \n",
       "3                                None reported         Yes  45000  \n",
       "4                                None reported         Yes  97500  \n",
       "...                                        ...         ...    ...  \n",
       "188528                           None reported         Yes  27500  \n",
       "188529  At least 1 accident or damage reported         Yes  30000  \n",
       "188530                           None reported         Yes  86900  \n",
       "188531                           None reported         NaN  84900  \n",
       "188532                           None reported         Yes  28995  \n",
       "\n",
       "[188533 rows x 13 columns]"
      ]
     },
     "execution_count": 64,
     "metadata": {},
     "output_type": "execute_result"
    }
   ],
   "source": [
    "car_data"
   ]
  },
  {
   "cell_type": "code",
   "execution_count": 65,
   "id": "d59d063f-f2ab-4767-8b0f-97d1951324f1",
   "metadata": {},
   "outputs": [
    {
     "data": {
      "text/plain": [
       "2024"
      ]
     },
     "execution_count": 65,
     "metadata": {},
     "output_type": "execute_result"
    }
   ],
   "source": [
    "car_data[\"model_year\"].max()"
   ]
  },
  {
   "cell_type": "code",
   "execution_count": 66,
   "id": "ca673091-1fb6-4faa-ad0f-f8d317742f7f",
   "metadata": {},
   "outputs": [],
   "source": [
    "car_data[\"car_year\"] = car_data[\"model_year\"].max() - car_data[\"model_year\"]"
   ]
  },
  {
   "cell_type": "code",
   "execution_count": 67,
   "id": "2747fde5-d9c5-47df-9dac-4b676975beda",
   "metadata": {},
   "outputs": [],
   "source": [
    "del car_data[\"id\"]"
   ]
  },
  {
   "cell_type": "code",
   "execution_count": 68,
   "id": "98d228d0-5d7c-48b4-857d-3f811fa70f6b",
   "metadata": {},
   "outputs": [
    {
     "data": {
      "image/png": "[encoded data removed]",
      "text/plain": [
       "<Figure size 1600x400 with 3 Axes>"
      ]
     },
     "metadata": {},
     "output_type": "display_data"
    }
   ],
   "source": [
    "diagnostic_plots(car_data, \"price\")"
   ]
  },
  {
   "cell_type": "code",
   "execution_count": 69,
   "id": "5d46d7e5-0ec3-4b5f-bb90-aa9a81b34441",
   "metadata": {},
   "outputs": [
    {
     "name": "stdout",
     "output_type": "stream",
     "text": [
      "\n",
      "Highly skewed features: \n",
      "\n",
      "['milage', 'price', 'car_year']\n"
     ]
    }
   ],
   "source": [
    "car_data = skew_processing(car_data)"
   ]
  },
  {
   "cell_type": "code",
   "execution_count": 70,
   "id": "439cb717-0517-4f37-9af2-d18b48804b8f",
   "metadata": {},
   "outputs": [
    {
     "data": {
      "image/png": "[encoded data removed]",
      "text/plain": [
       "<Figure size 1600x400 with 3 Axes>"
      ]
     },
     "metadata": {},
     "output_type": "display_data"
    }
   ],
   "source": [
    "diagnostic_plots(car_data, \"price\")"
   ]
  },
  {
   "cell_type": "code",
   "execution_count": 71,
   "id": "036b100f-9bb8-4eff-9780-1167aecd0c64",
   "metadata": {},
   "outputs": [
    {
     "data": {
      "image/png": "[encoded data removed]",
      "text/plain": [
       "<Figure size 800x500 with 1 Axes>"
      ]
     },
     "metadata": {},
     "output_type": "display_data"
    }
   ],
   "source": [
    "missing_data_detection(car_data)"
   ]
  },
  {
   "cell_type": "code",
   "execution_count": 72,
   "id": "5c607e99-4f4f-4c7d-ac79-ef1f9ac6721b",
   "metadata": {},
   "outputs": [
    {
     "data": {
      "text/plain": [
       "array(['Yes', nan], dtype=object)"
      ]
     },
     "execution_count": 72,
     "metadata": {},
     "output_type": "execute_result"
    }
   ],
   "source": [
    "car_data[\"clean_title\"].unique()"
   ]
  },
  {
   "cell_type": "code",
   "execution_count": 73,
   "id": "bd57eff4-0e91-425b-9472-93b0775b3130",
   "metadata": {},
   "outputs": [
    {
     "data": {
      "text/plain": [
       "array(['Gasoline', 'E85 Flex Fuel', nan, 'Hybrid', 'Diesel',\n",
       "       'Plug-In Hybrid', '–', 'not supported'], dtype=object)"
      ]
     },
     "execution_count": 73,
     "metadata": {},
     "output_type": "execute_result"
    }
   ],
   "source": [
    "car_data[\"fuel_type\"].unique()"
   ]
  },
  {
   "cell_type": "code",
   "execution_count": 74,
   "id": "c3b7a3a7-832c-419f-8147-b4eb7ad74ae0",
   "metadata": {},
   "outputs": [
    {
     "data": {
      "text/plain": [
       "array(['None reported', 'At least 1 accident or damage reported', nan],\n",
       "      dtype=object)"
      ]
     },
     "execution_count": 74,
     "metadata": {},
     "output_type": "execute_result"
    }
   ],
   "source": [
    "car_data[\"accident\"].unique()"
   ]
  },
  {
   "cell_type": "code",
   "execution_count": 75,
   "id": "c1dbd899-92b1-4cef-bbb9-4461b9e985c3",
   "metadata": {},
   "outputs": [
    {
     "name": "stdout",
     "output_type": "stream",
     "text": [
      "Outliers have been clipped to the specified threshold.\n"
     ]
    }
   ],
   "source": [
    "tmp = remove_outliers(car_data, threshold=3, method='clip')"
   ]
  },
  {
   "cell_type": "code",
   "execution_count": 76,
   "id": "4019d506-ce69-43d0-9869-14ef6783000a",
   "metadata": {},
   "outputs": [
    {
     "data": {
      "image/png": "[encoded data removed]",
      "text/plain": [
       "<Figure size 1600x400 with 3 Axes>"
      ]
     },
     "metadata": {},
     "output_type": "display_data"
    }
   ],
   "source": [
    "diagnostic_plots(tmp, \"price\")"
   ]
  },
  {
   "cell_type": "code",
   "execution_count": 77,
   "id": "b6743ad2-30d4-4616-9e33-c57792a94634",
   "metadata": {},
   "outputs": [],
   "source": [
    "car_data[\"clean_title\"] = car_data[\"clean_title\"].fillna(\"No\")\n",
    "car_data[\"accident\"] = car_data[\"accident\"].fillna(\"Unkown\")\n",
    "car_data[\"fuel_type\"] = car_data[\"fuel_type\"].fillna(\"Unknown\")"
   ]
  },
  {
   "cell_type": "code",
   "execution_count": 78,
   "id": "acb0fcd3-f555-4031-9496-1e158ca1de90",
   "metadata": {},
   "outputs": [
    {
     "data": {
      "text/plain": [
       "Index(['brand', 'model', 'model_year', 'milage', 'fuel_type', 'engine',\n",
       "       'transmission', 'ext_col', 'int_col', 'accident', 'clean_title',\n",
       "       'price', 'car_year'],\n",
       "      dtype='object')"
      ]
     },
     "execution_count": 78,
     "metadata": {},
     "output_type": "execute_result"
    }
   ],
   "source": [
    "car_data.columns"
   ]
  },
  {
   "cell_type": "code",
   "execution_count": 79,
   "id": "8113e915-a8c7-4bb8-9fee-c5ee469f5f05",
   "metadata": {},
   "outputs": [],
   "source": [
    "car_data = dummy_encode(car_data,\"brand\")"
   ]
  },
  {
   "cell_type": "code",
   "execution_count": 80,
   "id": "8c25948d-a00a-415b-8fe1-032841500e03",
   "metadata": {},
   "outputs": [
    {
     "data": {
      "text/plain": [
       "array(['A/T', 'Transmission w/Dual Shift Mode', '7-Speed A/T',\n",
       "       '8-Speed A/T', '10-Speed Automatic', '1-Speed A/T', '6-Speed A/T',\n",
       "       '10-Speed A/T', '9-Speed A/T', '8-Speed Automatic',\n",
       "       '9-Speed Automatic', '5-Speed A/T', 'Automatic',\n",
       "       '7-Speed Automatic with Auto-Shift', 'CVT Transmission',\n",
       "       '5-Speed M/T', 'M/T', '6-Speed M/T', '6-Speed Automatic',\n",
       "       '4-Speed Automatic', '7-Speed M/T', '2-Speed A/T',\n",
       "       '1-Speed Automatic', 'Automatic CVT', '4-Speed A/T',\n",
       "       '6-Speed Manual', 'Transmission Overdrive Switch',\n",
       "       '8-Speed Automatic with Auto-Shift', '7-Speed Manual',\n",
       "       '7-Speed Automatic', '9-Speed Automatic with Auto-Shift',\n",
       "       '6-Speed Automatic with Auto-Shift',\n",
       "       '6-Speed Electronically Controlled Automatic with O', 'F', 'CVT-F',\n",
       "       '8-Speed Manual', 'Manual', '–', '2', '6 Speed At/Mt',\n",
       "       '5-Speed Automatic', '2-Speed Automatic', '8-SPEED A/T', '7-Speed',\n",
       "       'Variable', 'Single-Speed Fixed Gear', '8-SPEED AT',\n",
       "       '10-Speed Automatic with Overdrive', '7-Speed DCT Automatic',\n",
       "       'SCHEDULED FOR OR IN PRODUCTION', '6-Speed', '6 Speed Mt'],\n",
       "      dtype=object)"
      ]
     },
     "execution_count": 80,
     "metadata": {},
     "output_type": "execute_result"
    }
   ],
   "source": [
    "car_data[\"transmission\"].unique()"
   ]
  },
  {
   "cell_type": "code",
   "execution_count": 81,
   "id": "c5cfb419-a4b1-4105-b0cb-9dda1dc6c475",
   "metadata": {},
   "outputs": [],
   "source": [
    "car_data = car_data.drop(columns=[\"model_year\",\"engine\"])"
   ]
  },
  {
   "cell_type": "code",
   "execution_count": 82,
   "id": "ee906053-e0be-48f1-a8e3-ff585159bdd6",
   "metadata": {},
   "outputs": [],
   "source": [
    "car_data = dummy_encode(car_data,\"fuel_type\")"
   ]
  },
  {
   "cell_type": "code",
   "execution_count": 83,
   "id": "43324e52-4ff5-452c-a7ef-46b38fa53f21",
   "metadata": {},
   "outputs": [],
   "source": [
    "car_data = dummy_encode(car_data, \"transmission\")"
   ]
  },
  {
   "cell_type": "code",
   "execution_count": 84,
   "id": "8e319f1d-7fc3-43bc-aa8c-dff49838abb3",
   "metadata": {},
   "outputs": [],
   "source": [
    "car_data = dummy_encode(car_data, \"ext_col\")"
   ]
  },
  {
   "cell_type": "code",
   "execution_count": 85,
   "id": "5119739d-b1f3-4a57-9bf1-f31843fb86fc",
   "metadata": {},
   "outputs": [],
   "source": [
    "car_data = dummy_encode(car_data, \"clean_title\")"
   ]
  },
  {
   "cell_type": "code",
   "execution_count": 86,
   "id": "0463cdf1-f898-43b7-8b58-da03b3d66163",
   "metadata": {},
   "outputs": [],
   "source": [
    "car_data = dummy_encode(car_data, \"accident\")"
   ]
  },
  {
   "cell_type": "code",
   "execution_count": 87,
   "id": "e3b8e182-9184-4c1e-b41c-a2e7a937b3fe",
   "metadata": {},
   "outputs": [
    {
     "data": {
      "text/plain": [
       "440"
      ]
     },
     "execution_count": 87,
     "metadata": {},
     "output_type": "execute_result"
    }
   ],
   "source": [
    "len(car_data.columns)"
   ]
  },
  {
   "cell_type": "code",
   "execution_count": 88,
   "id": "d78297e8-7c6d-4ab9-9dae-9ce3910989a0",
   "metadata": {},
   "outputs": [],
   "source": [
    "car_data = car_data.drop(columns = \"int_col\")"
   ]
  },
  {
   "cell_type": "code",
   "execution_count": 89,
   "id": "6d07ad2c-d1d1-42fa-aed8-7c68237d8ada",
   "metadata": {},
   "outputs": [
    {
     "data": {
      "text/plain": [
       "Index(['model', 'milage', 'price', 'car_year', 'brand_Alfa', 'brand_Aston',\n",
       "       'brand_Audi', 'brand_BMW', 'brand_Bentley', 'brand_Bugatti',\n",
       "       ...\n",
       "       'ext_col_Yellow', 'ext_col_Yulong', 'ext_col_Yulong White',\n",
       "       'ext_col_designo Diamond White', 'ext_col_designo Diamond White Bright',\n",
       "       'ext_col_designo Diamond White Metallic', 'ext_col_–',\n",
       "       'clean_title_Yes', 'accident_None reported', 'accident_Unkown'],\n",
       "      dtype='object', length=439)"
      ]
     },
     "execution_count": 89,
     "metadata": {},
     "output_type": "execute_result"
    }
   ],
   "source": [
    "car_data.columns"
   ]
  },
  {
   "cell_type": "code",
   "execution_count": 90,
   "id": "2fe54bbb-143d-4430-8cec-62477c6a97f1",
   "metadata": {},
   "outputs": [],
   "source": [
    "y = car_data[\"price\"]\n",
    "X = car_data.drop(columns=['price','model'])"
   ]
  },
  {
   "cell_type": "code",
   "execution_count": 91,
   "id": "5e8125f2-53c2-49cf-acbe-17cf4cf02cd6",
   "metadata": {},
   "outputs": [],
   "source": [
    "X_train, X_test, y_train, y_test = train_test_split(X, y, test_size=0.3, random_state=42)"
   ]
  },
  {
   "cell_type": "code",
   "execution_count": 92,
   "id": "5382fe32-a9b6-49bc-9427-6e793b1ac49d",
   "metadata": {},
   "outputs": [
    {
     "name": "stdout",
     "output_type": "stream",
     "text": [
      "Test 0.5601044405836317\n"
     ]
    }
   ],
   "source": [
    "y_pred, r2, model = ols_regression(X_train, y_train, X_test, y_test, loss_type='huber')"
   ]
  },
  {
   "cell_type": "code",
   "execution_count": 93,
   "id": "267b1601-d1a8-4314-b9fb-acac2d014cc2",
   "metadata": {},
   "outputs": [
    {
     "data": {
      "image/png": "[encoded data removed]",
      "text/plain": [
       "<Figure size 1000x600 with 1 Axes>"
      ]
     },
     "metadata": {},
     "output_type": "display_data"
    }
   ],
   "source": [
    "plot_learning_curve(model, X_train, y_train)"
   ]
  },
  {
   "cell_type": "code",
   "execution_count": 94,
   "id": "68c2748b-3b67-4ca6-a849-75c3f16a9083",
   "metadata": {},
   "outputs": [
    {
     "name": "stdout",
     "output_type": "stream",
     "text": [
      "Best parameters (cross-validation): {'l2_ratio': 0.001, 'l1_ratio': 0.1}\n",
      "Best cross-validated R^2: 0.5639\n",
      "Test R^2: 0.5593\n",
      "Best Parameters: {'l2_ratio': 0.001, 'l1_ratio': 0.1}\n",
      "Test R^2: 0.5593081602209334\n"
     ]
    }
   ],
   "source": [
    "l2_ratios = [0.1, 0.01, 0.001]\n",
    "l1_ratios = [0.1, 0.5, 0.9]\n",
    "\n",
    "best_params, y_pred, r2, EN_model = elastic_net_regression(\n",
    "    X_train, y_train, X_test, y_test,\n",
    "    l2_ratios=l2_ratios, l1_ratios=l1_ratios, cv=5\n",
    ")\n",
    "\n",
    "print(\"Best Parameters:\", best_params)\n",
    "print(\"Test R^2:\", r2)"
   ]
  },
  {
   "cell_type": "code",
   "execution_count": 95,
   "id": "7c19997d-d4f3-4b20-8226-af90c3c53b73",
   "metadata": {},
   "outputs": [
    {
     "data": {
      "image/png": "[encoded data removed]",
      "text/plain": [
       "<Figure size 1000x600 with 1 Axes>"
      ]
     },
     "metadata": {},
     "output_type": "display_data"
    }
   ],
   "source": [
    "plot_learning_curve(EN_model, X, y)"
   ]
  },
  {
   "cell_type": "code",
   "execution_count": 96,
   "id": "3207dedb-d3fa-4a3b-83de-b595e2b58703",
   "metadata": {},
   "outputs": [],
   "source": [
    "param_grid = {\n",
    "    'n_estimators': [100, 200, 500],\n",
    "    'max_depth': [3, 10, -1],\n",
    "    'learning_rate': [0.01, 0.05, 0.1]\n",
    "}"
   ]
  },
  {
   "cell_type": "code",
   "execution_count": 97,
   "id": "4b835e87-72df-4485-b59b-e44c9bca22cf",
   "metadata": {},
   "outputs": [
    {
     "name": "stdout",
     "output_type": "stream",
     "text": [
      "[LightGBM] [Info] Auto-choosing row-wise multi-threading, the overhead of testing was 0.005093 seconds.\n",
      "You can set `force_row_wise=true` to remove the overhead.\n",
      "And if memory is not enough, you can set `force_col_wise=true`.\n",
      "[LightGBM] [Info] Total Bins 873\n",
      "[LightGBM] [Info] Number of data points in the train set: 131973, number of used features: 294\n",
      "[LightGBM] [Info] Start training from score 24.794761\n",
      "[LightGBM] [Warning] No further splits with positive gain, best gain: -inf\n",
      "[LightGBM] [Warning] No further splits with positive gain, best gain: -inf\n",
      "[LightGBM] [Warning] No further splits with positive gain, best gain: -inf\n",
      "[LightGBM] [Warning] No further splits with positive gain, best gain: -inf\n",
      "[LightGBM] [Warning] No further splits with positive gain, best gain: -inf\n",
      "[LightGBM] [Warning] No further splits with positive gain, best gain: -inf\n",
      "[LightGBM] [Warning] No further splits with positive gain, best gain: -inf\n",
      "[LightGBM] [Warning] No further splits with positive gain, best gain: -inf\n",
      "[LightGBM] [Warning] No further splits with positive gain, best gain: -inf\n",
      "[LightGBM] [Warning] No further splits with positive gain, best gain: -inf\n",
      "[LightGBM] [Warning] No further splits with positive gain, best gain: -inf\n",
      "[LightGBM] [Warning] No further splits with positive gain, best gain: -inf\n",
      "[LightGBM] [Warning] No further splits with positive gain, best gain: -inf\n",
      "[LightGBM] [Warning] No further splits with positive gain, best gain: -inf\n",
      "[LightGBM] [Warning] No further splits with positive gain, best gain: -inf\n",
      "[LightGBM] [Warning] No further splits with positive gain, best gain: -inf\n",
      "[LightGBM] [Warning] No further splits with positive gain, best gain: -inf\n",
      "[LightGBM] [Warning] No further splits with positive gain, best gain: -inf\n",
      "[LightGBM] [Warning] No further splits with positive gain, best gain: -inf\n",
      "[LightGBM] [Warning] No further splits with positive gain, best gain: -inf\n",
      "[LightGBM] [Warning] No further splits with positive gain, best gain: -inf\n",
      "[LightGBM] [Warning] No further splits with positive gain, best gain: -inf\n",
      "[LightGBM] [Warning] No further splits with positive gain, best gain: -inf\n",
      "[LightGBM] [Warning] No further splits with positive gain, best gain: -inf\n",
      "[LightGBM] [Warning] No further splits with positive gain, best gain: -inf\n",
      "[LightGBM] [Warning] No further splits with positive gain, best gain: -inf\n",
      "[LightGBM] [Warning] No further splits with positive gain, best gain: -inf\n",
      "[LightGBM] [Warning] No further splits with positive gain, best gain: -inf\n",
      "[LightGBM] [Warning] No further splits with positive gain, best gain: -inf\n",
      "[LightGBM] [Warning] No further splits with positive gain, best gain: -inf\n",
      "Best parameters (cross-validation): {'learning_rate': 0.05, 'max_depth': 10, 'n_estimators': 500}\n",
      "Best cross-validated R^2: 0.6043\n",
      "[LightGBM] [Info] Auto-choosing row-wise multi-threading, the overhead of testing was 0.002510 seconds.\n",
      "You can set `force_row_wise=true` to remove the overhead.\n",
      "And if memory is not enough, you can set `force_col_wise=true`.\n",
      "[LightGBM] [Info] Total Bins 873\n",
      "[LightGBM] [Info] Number of data points in the train set: 131973, number of used features: 294\n",
      "[LightGBM] [Info] Start training from score 24.794761\n",
      "[LightGBM] [Warning] No further splits with positive gain, best gain: -inf\n",
      "[LightGBM] [Warning] No further splits with positive gain, best gain: -inf\n",
      "[LightGBM] [Warning] No further splits with positive gain, best gain: -inf\n",
      "[LightGBM] [Warning] No further splits with positive gain, best gain: -inf\n",
      "[LightGBM] [Warning] No further splits with positive gain, best gain: -inf\n",
      "[LightGBM] [Warning] No further splits with positive gain, best gain: -inf\n",
      "[LightGBM] [Warning] No further splits with positive gain, best gain: -inf\n",
      "[LightGBM] [Warning] No further splits with positive gain, best gain: -inf\n",
      "[LightGBM] [Warning] No further splits with positive gain, best gain: -inf\n",
      "[LightGBM] [Warning] No further splits with positive gain, best gain: -inf\n",
      "[LightGBM] [Warning] No further splits with positive gain, best gain: -inf\n",
      "[LightGBM] [Warning] No further splits with positive gain, best gain: -inf\n",
      "[LightGBM] [Warning] No further splits with positive gain, best gain: -inf\n",
      "[LightGBM] [Warning] No further splits with positive gain, best gain: -inf\n",
      "[LightGBM] [Warning] No further splits with positive gain, best gain: -inf\n",
      "[LightGBM] [Warning] No further splits with positive gain, best gain: -inf\n",
      "[LightGBM] [Warning] No further splits with positive gain, best gain: -inf\n",
      "[LightGBM] [Warning] No further splits with positive gain, best gain: -inf\n",
      "[LightGBM] [Warning] No further splits with positive gain, best gain: -inf\n",
      "[LightGBM] [Warning] No further splits with positive gain, best gain: -inf\n",
      "[LightGBM] [Warning] No further splits with positive gain, best gain: -inf\n",
      "[LightGBM] [Warning] No further splits with positive gain, best gain: -inf\n",
      "[LightGBM] [Warning] No further splits with positive gain, best gain: -inf\n",
      "[LightGBM] [Warning] No further splits with positive gain, best gain: -inf\n",
      "[LightGBM] [Warning] No further splits with positive gain, best gain: -inf\n",
      "[LightGBM] [Warning] No further splits with positive gain, best gain: -inf\n",
      "[LightGBM] [Warning] No further splits with positive gain, best gain: -inf\n",
      "[LightGBM] [Warning] No further splits with positive gain, best gain: -inf\n",
      "[LightGBM] [Warning] No further splits with positive gain, best gain: -inf\n",
      "[LightGBM] [Warning] No further splits with positive gain, best gain: -inf\n",
      "Best Parameters: {'learning_rate': 0.05, 'max_depth': 10, 'n_estimators': 500}\n",
      "R^2 on Test Set: 0.6020452685492468\n"
     ]
    }
   ],
   "source": [
    "best_params, y_pred, r2, lgbm_model = lgbm_regression(\n",
    "    X_train, y_train, X_test, y_test,\n",
    "    param_grid=param_grid,\n",
    "    cv=5,\n",
    "    scaler_type='RobustScaler'\n",
    ")\n",
    "print(\"Best Parameters:\", best_params)\n",
    "print(\"R^2 on Test Set:\", r2)"
   ]
  },
  {
   "cell_type": "code",
   "execution_count": 98,
   "id": "31061f6b-3854-400d-9774-8c9149ef08a7",
   "metadata": {
    "scrolled": true
   },
   "outputs": [
    {
     "data": {
      "image/png": "[encoded data removed]",
      "text/plain": [
       "<Figure size 1000x600 with 1 Axes>"
      ]
     },
     "metadata": {},
     "output_type": "display_data"
    }
   ],
   "source": [
    "plot_learning_curve(lgbm_model, X, y)"
   ]
  },
  {
   "cell_type": "code",
   "execution_count": 99,
   "id": "cfbd11ba-bf18-435d-a655-fa0a9bca82bc",
   "metadata": {},
   "outputs": [
    {
     "name": "stdout",
     "output_type": "stream",
     "text": [
      "Test R^2: 0.6020452685492468\n"
     ]
    }
   ],
   "source": [
    "y_pred_rf, r2_rf, model_rf = random_forest_regression(X_train, y_train, X_test, y_test, n_estimators=50, max_depth=5)\n",
    "\n",
    "print(\"Test R^2:\", r2)"
   ]
  },
  {
   "cell_type": "code",
   "execution_count": null,
   "id": "77eed3eb-eddc-4530-aea8-455fe106c52e",
   "metadata": {},
   "outputs": [],
   "source": []
  },
  {
   "cell_type": "code",
   "execution_count": null,
   "id": "3bcb7a14-622e-46bd-a860-6fbe2bebd204",
   "metadata": {},
   "outputs": [],
   "source": []
  },
  {
   "cell_type": "code",
   "execution_count": null,
   "id": "258d6315-6b9b-451e-86b6-9227ffb18bfd",
   "metadata": {},
   "outputs": [],
   "source": []
  },
  {
   "cell_type": "code",
   "execution_count": 47,
   "id": "edc78b87-fd2b-4f30-beb8-b896d9d50c5b",
   "metadata": {},
   "outputs": [],
   "source": [
    "from sklearn.svm import SVR\n",
    "\n",
    "def svr_regression(X_train, y_train, X_test, y_test, param_grid, cv=5, scaler_type='RobustScaler'):\n",
    "    scaler_X = RobustScaler()\n",
    "    scaler_y = RobustScaler()\n",
    "\n",
    "    # Scale the features and target\n",
    "    X_train_scaled = scaler_X.fit_transform(X_train)\n",
    "    X_test_scaled = scaler_X.transform(X_test)\n",
    "\n",
    "    y_train_scaled = scaler_y.fit_transform(y_train.values.reshape(-1, 1)).flatten()\n",
    "    y_test_scaled = scaler_y.transform(y_test.values.reshape(-1, 1)).flatten()\n",
    "\n",
    "    # Use GridSearchCV for cross-validation tuning\n",
    "    grid_search = GridSearchCV(\n",
    "        SVR(),\n",
    "        param_grid,\n",
    "        cv=cv,\n",
    "        scoring='r2',\n",
    "        n_jobs=-1\n",
    "    )\n",
    "    grid_search.fit(X_train_scaled, y_train_scaled)\n",
    "\n",
    "    best_params = grid_search.best_params_\n",
    "    best_r2 = grid_search.best_score_\n",
    "\n",
    "    print(f\"Best parameters (cross-validation): {best_params}\")\n",
    "    print(f\"Best cross-validated R^2: {best_r2:.4f}\")\n",
    "\n",
    "    # Train the model with the best parameters on the entire training set\n",
    "    final_model = SVR(**best_params)\n",
    "    final_model.fit(X_train_scaled, y_train_scaled)\n",
    "\n",
    "    y_pred_scaled = final_model.predict(X_test_scaled)\n",
    "    y_pred = scaler_y.inverse_transform(y_pred_scaled.reshape(-1, 1)).flatten()\n",
    "\n",
    "    r2 = r2_score(y_test, y_pred)\n",
    "\n",
    "    return best_params, y_pred, r2, final_model"
   ]
  },
  {
   "cell_type": "code",
   "execution_count": null,
   "id": "fb481b92-4f57-4cb0-a491-9e85c1202bce",
   "metadata": {},
   "outputs": [],
   "source": [
    "# Example usage for SVR:\n",
    "param_grid = {\n",
    "    'kernel': ['linear', 'rbf'],\n",
    "    'C': [0.1, 1]\n",
    "}\n",
    "best_params, y_pred_svr, r2_svr, model_svr = svr_regression(X_train, y_train, X_test, y_test, param_grid, cv=5, scaler_type='StandardScaler')"
   ]
  },
  {
   "cell_type": "code",
   "execution_count": null,
   "id": "a838c5da-e2a0-4379-8fde-b0351e1a03e0",
   "metadata": {},
   "outputs": [],
   "source": [
    "plot_learning_curve(model_svr, X, y)"
   ]
  },
  {
   "cell_type": "code",
   "execution_count": null,
   "id": "9a3423dc-67f5-41f3-b19e-dd9115ac9b5f",
   "metadata": {},
   "outputs": [],
   "source": []
  },
  {
   "cell_type": "code",
   "execution_count": null,
   "id": "de9a64bc-df24-43b5-a9d3-d214b43ca272",
   "metadata": {},
   "outputs": [],
   "source": [
    "from itertools import product\n",
    "\n",
    "def single_param_tune_and_plot(estimator, X_train, y_train, param_grid, scoring='r2', cv=5):\n",
    "    if len(param_grid) == 1:\n",
    "        # Single parameter tuning: plot results\n",
    "        param_name = list(param_grid.keys())[0]\n",
    "        param_values = param_grid[param_name]\n",
    "        scores = []\n",
    "\n",
    "        for param_value in param_values:\n",
    "            estimator.set_params(**{param_name: param_value})\n",
    "            cv_scores = cross_val_score(estimator, X_train, y_train, cv=cv, scoring=scoring)\n",
    "            scores.append(np.mean(cv_scores))\n",
    "\n",
    "        # Plot the cross-validation scores\n",
    "        plt.figure(figsize=(10, 6))\n",
    "        plt.plot(param_values, scores, marker='o', label='Cross-Validation Scores')\n",
    "        plt.title(f'Cross-Validation Scores vs {param_name}')\n",
    "        plt.xlabel(param_name)\n",
    "        plt.ylabel(scoring)\n",
    "        plt.grid(True)\n",
    "        plt.legend()\n",
    "        plt.show()\n",
    "\n",
    "        # Find the best parameter and refit the model\n",
    "        best_param = param_values[np.argmax(scores)]\n",
    "        estimator.set_params(**{param_name: best_param})\n",
    "        estimator.fit(X_train, y_train)\n",
    "\n",
    "        print(f\"Best {param_name}: {best_param}\")\n",
    "        print(f\"Best cross-validation score: {max(scores):.4f}\")\n",
    "\n",
    "        return estimator, {param_name: best_param}, scores\n",
    "    else:\n",
    "        # Multiple parameter tuning: grid search without plotting\n",
    "        param_names = list(param_grid.keys())\n",
    "        param_values = list(param_grid.values())\n",
    "\n",
    "        best_score = -np.inf\n",
    "        best_params = None\n",
    "\n",
    "        # Iterate through all combinations of parameter values\n",
    "        for param_combination in product(*param_values):\n",
    "            params = dict(zip(param_names, param_combination))\n",
    "            estimator.set_params(**params)\n",
    "\n",
    "            # Perform cross-validation\n",
    "            cv_scores = cross_val_score(estimator, X_train, y_train, cv=cv, scoring=scoring)\n",
    "            mean_score = np.mean(cv_scores)\n",
    "\n",
    "            if mean_score > best_score:\n",
    "                best_score = mean_score\n",
    "                best_params = params\n",
    "\n",
    "        # Refit the model with the best parameters\n",
    "        estimator.set_params(**best_params)\n",
    "        estimator.fit(X_train, y_train)\n",
    "\n",
    "        print(f\"Best parameters: {best_params}\")\n",
    "        print(f\"Best cross-validation score: {best_score:.4f}\")\n",
    "\n",
    "        return estimator, best_params, None"
   ]
  },
  {
   "cell_type": "code",
   "execution_count": null,
   "id": "92ef8b7d-4438-4bc3-a2ab-0c5e7e1e4411",
   "metadata": {},
   "outputs": [],
   "source": []
  },
  {
   "cell_type": "code",
   "execution_count": null,
   "id": "b7e9ed2e-b0e8-44b6-878b-728bc22dbdf9",
   "metadata": {},
   "outputs": [],
   "source": []
  },
  {
   "cell_type": "markdown",
   "id": "8971cfa0",
   "metadata": {},
   "source": [
    "# House Price\n",
    "\n",
    "### 1. drop outlier, missing data, feature scaling/normalization, in sample v.s. out sample"
   ]
  },
  {
   "cell_type": "code",
   "execution_count": null,
   "id": "4679e0a5-2d8e-403e-be5b-80b0ea13934e",
   "metadata": {},
   "outputs": [],
   "source": [
    "from sklearn.base import BaseEstimator, TransformerMixin, ClassifierMixin, clone\n",
    "import sklearn_pandas"
   ]
  },
  {
   "cell_type": "code",
   "execution_count": 6,
   "id": "961f6ffe",
   "metadata": {},
   "outputs": [],
   "source": [
    "# kaggle train data\n",
    "train_df = pd.read_csv(\"./House-Prices-Advanced-Regression-Techniques-master\\House-Prices-Advanced-Regression-Techniques-master/dane/train.csv\")\n",
    "# kaggle test data\n",
    "test_df = pd.read_csv(\"./House-Prices-Advanced-Regression-Techniques-master\\House-Prices-Advanced-Regression-Techniques-master/dane/test.csv\")"
   ]
  },
  {
   "cell_type": "code",
   "execution_count": 7,
   "id": "09e24f7b",
   "metadata": {},
   "outputs": [
    {
     "data": {
      "text/html": [
       "<div>\n",
       "<style scoped>\n",
       "    .dataframe tbody tr th:only-of-type {\n",
       "        vertical-align: middle;\n",
       "    }\n",
       "\n",
       "    .dataframe tbody tr th {\n",
       "        vertical-align: top;\n",
       "    }\n",
       "\n",
       "    .dataframe thead th {\n",
       "        text-align: right;\n",
       "    }\n",
       "</style>\n",
       "<table border=\"1\" class=\"dataframe\">\n",
       "  <thead>\n",
       "    <tr style=\"text-align: right;\">\n",
       "      <th></th>\n",
       "      <th>Id</th>\n",
       "      <th>MSSubClass</th>\n",
       "      <th>MSZoning</th>\n",
       "      <th>LotFrontage</th>\n",
       "      <th>LotArea</th>\n",
       "      <th>Street</th>\n",
       "      <th>Alley</th>\n",
       "      <th>LotShape</th>\n",
       "      <th>LandContour</th>\n",
       "      <th>Utilities</th>\n",
       "      <th>...</th>\n",
       "      <th>PoolArea</th>\n",
       "      <th>PoolQC</th>\n",
       "      <th>Fence</th>\n",
       "      <th>MiscFeature</th>\n",
       "      <th>MiscVal</th>\n",
       "      <th>MoSold</th>\n",
       "      <th>YrSold</th>\n",
       "      <th>SaleType</th>\n",
       "      <th>SaleCondition</th>\n",
       "      <th>SalePrice</th>\n",
       "    </tr>\n",
       "  </thead>\n",
       "  <tbody>\n",
       "    <tr>\n",
       "      <th>0</th>\n",
       "      <td>1</td>\n",
       "      <td>60</td>\n",
       "      <td>RL</td>\n",
       "      <td>65.0</td>\n",
       "      <td>8450</td>\n",
       "      <td>Pave</td>\n",
       "      <td>NaN</td>\n",
       "      <td>Reg</td>\n",
       "      <td>Lvl</td>\n",
       "      <td>AllPub</td>\n",
       "      <td>...</td>\n",
       "      <td>0</td>\n",
       "      <td>NaN</td>\n",
       "      <td>NaN</td>\n",
       "      <td>NaN</td>\n",
       "      <td>0</td>\n",
       "      <td>2</td>\n",
       "      <td>2008</td>\n",
       "      <td>WD</td>\n",
       "      <td>Normal</td>\n",
       "      <td>208500</td>\n",
       "    </tr>\n",
       "    <tr>\n",
       "      <th>1</th>\n",
       "      <td>2</td>\n",
       "      <td>20</td>\n",
       "      <td>RL</td>\n",
       "      <td>80.0</td>\n",
       "      <td>9600</td>\n",
       "      <td>Pave</td>\n",
       "      <td>NaN</td>\n",
       "      <td>Reg</td>\n",
       "      <td>Lvl</td>\n",
       "      <td>AllPub</td>\n",
       "      <td>...</td>\n",
       "      <td>0</td>\n",
       "      <td>NaN</td>\n",
       "      <td>NaN</td>\n",
       "      <td>NaN</td>\n",
       "      <td>0</td>\n",
       "      <td>5</td>\n",
       "      <td>2007</td>\n",
       "      <td>WD</td>\n",
       "      <td>Normal</td>\n",
       "      <td>181500</td>\n",
       "    </tr>\n",
       "    <tr>\n",
       "      <th>2</th>\n",
       "      <td>3</td>\n",
       "      <td>60</td>\n",
       "      <td>RL</td>\n",
       "      <td>68.0</td>\n",
       "      <td>11250</td>\n",
       "      <td>Pave</td>\n",
       "      <td>NaN</td>\n",
       "      <td>IR1</td>\n",
       "      <td>Lvl</td>\n",
       "      <td>AllPub</td>\n",
       "      <td>...</td>\n",
       "      <td>0</td>\n",
       "      <td>NaN</td>\n",
       "      <td>NaN</td>\n",
       "      <td>NaN</td>\n",
       "      <td>0</td>\n",
       "      <td>9</td>\n",
       "      <td>2008</td>\n",
       "      <td>WD</td>\n",
       "      <td>Normal</td>\n",
       "      <td>223500</td>\n",
       "    </tr>\n",
       "    <tr>\n",
       "      <th>3</th>\n",
       "      <td>4</td>\n",
       "      <td>70</td>\n",
       "      <td>RL</td>\n",
       "      <td>60.0</td>\n",
       "      <td>9550</td>\n",
       "      <td>Pave</td>\n",
       "      <td>NaN</td>\n",
       "      <td>IR1</td>\n",
       "      <td>Lvl</td>\n",
       "      <td>AllPub</td>\n",
       "      <td>...</td>\n",
       "      <td>0</td>\n",
       "      <td>NaN</td>\n",
       "      <td>NaN</td>\n",
       "      <td>NaN</td>\n",
       "      <td>0</td>\n",
       "      <td>2</td>\n",
       "      <td>2006</td>\n",
       "      <td>WD</td>\n",
       "      <td>Abnorml</td>\n",
       "      <td>140000</td>\n",
       "    </tr>\n",
       "    <tr>\n",
       "      <th>4</th>\n",
       "      <td>5</td>\n",
       "      <td>60</td>\n",
       "      <td>RL</td>\n",
       "      <td>84.0</td>\n",
       "      <td>14260</td>\n",
       "      <td>Pave</td>\n",
       "      <td>NaN</td>\n",
       "      <td>IR1</td>\n",
       "      <td>Lvl</td>\n",
       "      <td>AllPub</td>\n",
       "      <td>...</td>\n",
       "      <td>0</td>\n",
       "      <td>NaN</td>\n",
       "      <td>NaN</td>\n",
       "      <td>NaN</td>\n",
       "      <td>0</td>\n",
       "      <td>12</td>\n",
       "      <td>2008</td>\n",
       "      <td>WD</td>\n",
       "      <td>Normal</td>\n",
       "      <td>250000</td>\n",
       "    </tr>\n",
       "    <tr>\n",
       "      <th>...</th>\n",
       "      <td>...</td>\n",
       "      <td>...</td>\n",
       "      <td>...</td>\n",
       "      <td>...</td>\n",
       "      <td>...</td>\n",
       "      <td>...</td>\n",
       "      <td>...</td>\n",
       "      <td>...</td>\n",
       "      <td>...</td>\n",
       "      <td>...</td>\n",
       "      <td>...</td>\n",
       "      <td>...</td>\n",
       "      <td>...</td>\n",
       "      <td>...</td>\n",
       "      <td>...</td>\n",
       "      <td>...</td>\n",
       "      <td>...</td>\n",
       "      <td>...</td>\n",
       "      <td>...</td>\n",
       "      <td>...</td>\n",
       "      <td>...</td>\n",
       "    </tr>\n",
       "    <tr>\n",
       "      <th>1455</th>\n",
       "      <td>1456</td>\n",
       "      <td>60</td>\n",
       "      <td>RL</td>\n",
       "      <td>62.0</td>\n",
       "      <td>7917</td>\n",
       "      <td>Pave</td>\n",
       "      <td>NaN</td>\n",
       "      <td>Reg</td>\n",
       "      <td>Lvl</td>\n",
       "      <td>AllPub</td>\n",
       "      <td>...</td>\n",
       "      <td>0</td>\n",
       "      <td>NaN</td>\n",
       "      <td>NaN</td>\n",
       "      <td>NaN</td>\n",
       "      <td>0</td>\n",
       "      <td>8</td>\n",
       "      <td>2007</td>\n",
       "      <td>WD</td>\n",
       "      <td>Normal</td>\n",
       "      <td>175000</td>\n",
       "    </tr>\n",
       "    <tr>\n",
       "      <th>1456</th>\n",
       "      <td>1457</td>\n",
       "      <td>20</td>\n",
       "      <td>RL</td>\n",
       "      <td>85.0</td>\n",
       "      <td>13175</td>\n",
       "      <td>Pave</td>\n",
       "      <td>NaN</td>\n",
       "      <td>Reg</td>\n",
       "      <td>Lvl</td>\n",
       "      <td>AllPub</td>\n",
       "      <td>...</td>\n",
       "      <td>0</td>\n",
       "      <td>NaN</td>\n",
       "      <td>MnPrv</td>\n",
       "      <td>NaN</td>\n",
       "      <td>0</td>\n",
       "      <td>2</td>\n",
       "      <td>2010</td>\n",
       "      <td>WD</td>\n",
       "      <td>Normal</td>\n",
       "      <td>210000</td>\n",
       "    </tr>\n",
       "    <tr>\n",
       "      <th>1457</th>\n",
       "      <td>1458</td>\n",
       "      <td>70</td>\n",
       "      <td>RL</td>\n",
       "      <td>66.0</td>\n",
       "      <td>9042</td>\n",
       "      <td>Pave</td>\n",
       "      <td>NaN</td>\n",
       "      <td>Reg</td>\n",
       "      <td>Lvl</td>\n",
       "      <td>AllPub</td>\n",
       "      <td>...</td>\n",
       "      <td>0</td>\n",
       "      <td>NaN</td>\n",
       "      <td>GdPrv</td>\n",
       "      <td>Shed</td>\n",
       "      <td>2500</td>\n",
       "      <td>5</td>\n",
       "      <td>2010</td>\n",
       "      <td>WD</td>\n",
       "      <td>Normal</td>\n",
       "      <td>266500</td>\n",
       "    </tr>\n",
       "    <tr>\n",
       "      <th>1458</th>\n",
       "      <td>1459</td>\n",
       "      <td>20</td>\n",
       "      <td>RL</td>\n",
       "      <td>68.0</td>\n",
       "      <td>9717</td>\n",
       "      <td>Pave</td>\n",
       "      <td>NaN</td>\n",
       "      <td>Reg</td>\n",
       "      <td>Lvl</td>\n",
       "      <td>AllPub</td>\n",
       "      <td>...</td>\n",
       "      <td>0</td>\n",
       "      <td>NaN</td>\n",
       "      <td>NaN</td>\n",
       "      <td>NaN</td>\n",
       "      <td>0</td>\n",
       "      <td>4</td>\n",
       "      <td>2010</td>\n",
       "      <td>WD</td>\n",
       "      <td>Normal</td>\n",
       "      <td>142125</td>\n",
       "    </tr>\n",
       "    <tr>\n",
       "      <th>1459</th>\n",
       "      <td>1460</td>\n",
       "      <td>20</td>\n",
       "      <td>RL</td>\n",
       "      <td>75.0</td>\n",
       "      <td>9937</td>\n",
       "      <td>Pave</td>\n",
       "      <td>NaN</td>\n",
       "      <td>Reg</td>\n",
       "      <td>Lvl</td>\n",
       "      <td>AllPub</td>\n",
       "      <td>...</td>\n",
       "      <td>0</td>\n",
       "      <td>NaN</td>\n",
       "      <td>NaN</td>\n",
       "      <td>NaN</td>\n",
       "      <td>0</td>\n",
       "      <td>6</td>\n",
       "      <td>2008</td>\n",
       "      <td>WD</td>\n",
       "      <td>Normal</td>\n",
       "      <td>147500</td>\n",
       "    </tr>\n",
       "  </tbody>\n",
       "</table>\n",
       "<p>1460 rows × 81 columns</p>\n",
       "</div>"
      ],
      "text/plain": [
       "        Id  MSSubClass MSZoning  LotFrontage  LotArea Street Alley LotShape  \\\n",
       "0        1          60       RL         65.0     8450   Pave   NaN      Reg   \n",
       "1        2          20       RL         80.0     9600   Pave   NaN      Reg   \n",
       "2        3          60       RL         68.0    11250   Pave   NaN      IR1   \n",
       "3        4          70       RL         60.0     9550   Pave   NaN      IR1   \n",
       "4        5          60       RL         84.0    14260   Pave   NaN      IR1   \n",
       "...    ...         ...      ...          ...      ...    ...   ...      ...   \n",
       "1455  1456          60       RL         62.0     7917   Pave   NaN      Reg   \n",
       "1456  1457          20       RL         85.0    13175   Pave   NaN      Reg   \n",
       "1457  1458          70       RL         66.0     9042   Pave   NaN      Reg   \n",
       "1458  1459          20       RL         68.0     9717   Pave   NaN      Reg   \n",
       "1459  1460          20       RL         75.0     9937   Pave   NaN      Reg   \n",
       "\n",
       "     LandContour Utilities  ... PoolArea PoolQC  Fence MiscFeature MiscVal  \\\n",
       "0            Lvl    AllPub  ...        0    NaN    NaN         NaN       0   \n",
       "1            Lvl    AllPub  ...        0    NaN    NaN         NaN       0   \n",
       "2            Lvl    AllPub  ...        0    NaN    NaN         NaN       0   \n",
       "3            Lvl    AllPub  ...        0    NaN    NaN         NaN       0   \n",
       "4            Lvl    AllPub  ...        0    NaN    NaN         NaN       0   \n",
       "...          ...       ...  ...      ...    ...    ...         ...     ...   \n",
       "1455         Lvl    AllPub  ...        0    NaN    NaN         NaN       0   \n",
       "1456         Lvl    AllPub  ...        0    NaN  MnPrv         NaN       0   \n",
       "1457         Lvl    AllPub  ...        0    NaN  GdPrv        Shed    2500   \n",
       "1458         Lvl    AllPub  ...        0    NaN    NaN         NaN       0   \n",
       "1459         Lvl    AllPub  ...        0    NaN    NaN         NaN       0   \n",
       "\n",
       "     MoSold YrSold  SaleType  SaleCondition  SalePrice  \n",
       "0         2   2008        WD         Normal     208500  \n",
       "1         5   2007        WD         Normal     181500  \n",
       "2         9   2008        WD         Normal     223500  \n",
       "3         2   2006        WD        Abnorml     140000  \n",
       "4        12   2008        WD         Normal     250000  \n",
       "...     ...    ...       ...            ...        ...  \n",
       "1455      8   2007        WD         Normal     175000  \n",
       "1456      2   2010        WD         Normal     210000  \n",
       "1457      5   2010        WD         Normal     266500  \n",
       "1458      4   2010        WD         Normal     142125  \n",
       "1459      6   2008        WD         Normal     147500  \n",
       "\n",
       "[1460 rows x 81 columns]"
      ]
     },
     "execution_count": 7,
     "metadata": {},
     "output_type": "execute_result"
    }
   ],
   "source": [
    "train_df"
   ]
  },
  {
   "cell_type": "code",
   "execution_count": 8,
   "id": "fcffcf7d",
   "metadata": {},
   "outputs": [],
   "source": [
    "train_df[\"SalePrice\"] = np.log1p(train_df[\"SalePrice\"])\n",
    "y_train = train_df[\"SalePrice\"]"
   ]
  },
  {
   "cell_type": "code",
   "execution_count": 9,
   "id": "64c1ad9b",
   "metadata": {},
   "outputs": [
    {
     "data": {
      "image/png": "[encoded data removed]",
      "text/plain": [
       "<Figure size 800x500 with 1 Axes>"
      ]
     },
     "metadata": {},
     "output_type": "display_data"
    }
   ],
   "source": [
    "missing_data_detection(train_df)"
   ]
  },
  {
   "cell_type": "code",
   "execution_count": 10,
   "id": "5d984d45",
   "metadata": {},
   "outputs": [],
   "source": [
    "# Dropping columns for both train and test dataset\n",
    "train_df = train_df.drop(\"Id\", axis=1)\n",
    "test_df = test_df.drop(\"Id\", axis=1)\n",
    "\n",
    "train_df = train_df.drop([\"Street\", \"Utilities\"], axis=1)\n",
    "test_df = test_df.drop([\"Street\", \"Utilities\"], axis=1)\n",
    "\n",
    "# clear_data is a dataframe with train data after removing outliers"
   ]
  },
  {
   "cell_type": "code",
   "execution_count": 11,
   "id": "36145da5",
   "metadata": {},
   "outputs": [],
   "source": [
    "clear_data = train_df.drop(train_df[(train_df['GrLivArea']>4500)].index)\n",
    "train_ = clear_data.drop(['SalePrice'], axis=1)\n",
    "all_data = pd.concat([train_df, test_df]).reset_index(drop=True)"
   ]
  },
  {
   "cell_type": "code",
   "execution_count": 12,
   "id": "e0138062",
   "metadata": {},
   "outputs": [
    {
     "data": {
      "text/plain": [
       "2592    2207.0\n",
       "Name: GarageYrBlt, dtype: float64"
      ]
     },
     "execution_count": 12,
     "metadata": {},
     "output_type": "execute_result"
    }
   ],
   "source": [
    "all_data[all_data.GarageYrBlt > 2017].GarageYrBlt #It seems like it is a typo"
   ]
  },
  {
   "cell_type": "code",
   "execution_count": 13,
   "id": "ee00b89c",
   "metadata": {},
   "outputs": [],
   "source": [
    "all_data.loc[2592, 'GarageYrBlt'] = 2007"
   ]
  },
  {
   "cell_type": "code",
   "execution_count": 14,
   "id": "9a18a0f4",
   "metadata": {},
   "outputs": [],
   "source": [
    "# transformation into medians\n",
    "all_data['LotFrontage'] = all_data.groupby('Neighborhood')['LotFrontage'].transform(lambda x: x.fillna(x.median()))"
   ]
  },
  {
   "cell_type": "code",
   "execution_count": 15,
   "id": "c5ebda36",
   "metadata": {},
   "outputs": [],
   "source": [
    "train_df[\"SalePrice\"] = np.log1p(train_df[\"SalePrice\"])"
   ]
  },
  {
   "cell_type": "code",
   "execution_count": 16,
   "id": "2805ca76",
   "metadata": {},
   "outputs": [],
   "source": [
    "def convert_to_string(df, columns):\n",
    "    df[columns] = df[columns].astype(str)\n",
    "    return df"
   ]
  },
  {
   "cell_type": "code",
   "execution_count": 17,
   "id": "68d99766-8275-4325-907e-28ddae463af4",
   "metadata": {},
   "outputs": [],
   "source": [
    "num_to_categ_features = ['MSSubClass', 'OverallCond']#, 'YrSold', 'MoSold']\n",
    "\n",
    "all_data = convert_to_string(all_data, columns = num_to_categ_features)"
   ]
  },
  {
   "cell_type": "code",
   "execution_count": 18,
   "id": "5e766cf3-0cbb-4064-b8e7-a695cb9ff1af",
   "metadata": {},
   "outputs": [],
   "source": [
    "num_features = all_data.select_dtypes(include=['int64','float64']).columns\n",
    "num_features_to_constant = ['BsmtFinSF1', 'BsmtFinSF2', 'BsmtFullBath', 'BsmtHalfBath', \"MasVnrArea\"] \n",
    "num_features_to_median = [feature for feature in num_features if feature not in num_features_to_constant + [\"SalePrice\"]]"
   ]
  },
  {
   "cell_type": "code",
   "execution_count": 19,
   "id": "ecf1c1fb",
   "metadata": {},
   "outputs": [],
   "source": [
    "# Generating numerical features as input to DataFrameMapper.  \n",
    "numeric_features_median = sklearn_pandas.gen_features(columns=[num_features_to_median], \n",
    "                                               classes=[{'class': SimpleImputer, \n",
    "                                                         'strategy': 'median', \n",
    "                                                         'missing_values' : np.nan}])\n",
    "\n",
    "numeric_features_zero = sklearn_pandas.gen_features(columns=[num_features_to_constant], \n",
    "                                               classes=[{'class': SimpleImputer, \n",
    "                                                         'strategy': 'constant',\n",
    "                                                         'fill_value' : 0, \n",
    "                                                         'missing_values' : np.nan}])\n",
    "\n",
    "missing_val_imputer = sklearn_pandas.DataFrameMapper(numeric_features_median + numeric_features_zero)\n",
    "\n",
    "# Fitting\n",
    "imputed_median = missing_val_imputer.fit(all_data)\n",
    "\n",
    "# Transformation\n",
    "imputed_features = imputed_median.transform(all_data)\n",
    "\n",
    "# Putting into dataframe\n",
    "imputed_df = pd.DataFrame(imputed_features, index=all_data.index, columns=num_features_to_median + num_features_to_constant)\n"
   ]
  },
  {
   "cell_type": "code",
   "execution_count": 20,
   "id": "db03fb27-4ca1-4a09-bdc4-e3d6c209ab12",
   "metadata": {},
   "outputs": [
    {
     "name": "stdout",
     "output_type": "stream",
     "text": [
      "\n",
      "Highly skewed features: \n",
      "\n",
      "['LotFrontage', 'LotArea', 'MasVnrArea', 'BsmtFinSF1', 'BsmtFinSF2', 'BsmtUnfSF', 'TotalBsmtSF', '1stFlrSF', '2ndFlrSF', 'LowQualFinSF', 'GrLivArea', 'BsmtFullBath', 'BsmtHalfBath', 'HalfBath', 'KitchenAbvGr', 'TotRmsAbvGrd', 'Fireplaces', 'WoodDeckSF', 'OpenPorchSF', 'EnclosedPorch', '3SsnPorch', 'ScreenPorch', 'PoolArea', 'MiscVal']\n"
     ]
    }
   ],
   "source": [
    "# collecting the numeric features without considering SalePrice\n",
    "numeric_features = [feat for feat in num_features if feat not in ['SalePrice']] \n",
    "\n",
    "# selecting columns with skew more than 0.5\n",
    "skewed_features = all_data[num_features].apply(lambda x: x.dropna().skew())\n",
    "skewed_features = skewed_features[skewed_features > 0.5].index\n",
    "print(\"\\nHighly skewed features: \\n\\n{}\".format(skewed_features.tolist()))"
   ]
  },
  {
   "cell_type": "code",
   "execution_count": 21,
   "id": "1a3b9e0b",
   "metadata": {},
   "outputs": [],
   "source": [
    "#The “optimal lambda” is the one that results in the best approximation of a normal distribution curve. I selected lambda= 0.15.\n",
    "\n",
    "lambda_ = 0.15\n",
    "for feature in skewed_features:\n",
    "    all_data[feature] = boxcox1p(all_data[feature], lambda_)"
   ]
  },
  {
   "cell_type": "code",
   "execution_count": 22,
   "id": "373d8b53-7e3e-4115-90a5-9034706dbd8b",
   "metadata": {},
   "outputs": [],
   "source": [
    "none_conversion = [(\"MasVnrType\",\"None\"),\n",
    "                  (\"BsmtQual\",\"NA\"), \n",
    "                  (\"Electrical\", \"SBrkr\"),\n",
    "                  (\"BsmtCond\",\"TA\"),\n",
    "                  (\"BsmtExposure\",\"No\"),\n",
    "                  (\"BsmtFinType1\",\"No\"),\n",
    "                  (\"BsmtFinType2\",\"No\"),\n",
    "                  (\"CentralAir\",\"N\"),\n",
    "                  (\"Condition1\",\"Norm\"), \n",
    "                  (\"Condition2\",\"Norm\"),\n",
    "                  (\"ExterCond\",\"TA\"),\n",
    "                  (\"ExterQual\",\"TA\"), \n",
    "                  (\"FireplaceQu\",\"NA\"),\n",
    "                  (\"Functional\",\"Typ\"),\n",
    "                  (\"GarageType\",\"No\"), \n",
    "                  (\"GarageFinish\",\"No\"), \n",
    "                  (\"GarageQual\",\"NA\"), \n",
    "                  (\"GarageCond\",\"NA\"), \n",
    "                  (\"HeatingQC\",\"TA\"), \n",
    "                  (\"KitchenQual\",\"TA\"), \n",
    "                  (\"Functional\",\"Typ\"), \n",
    "                  (\"GarageType\",\"No\"), \n",
    "                  (\"GarageFinish\",\"No\"), \n",
    "                  (\"GarageQual\",\"No\"), \n",
    "                  (\"GarageCond\",\"No\"), \n",
    "                  (\"HeatingQC\",\"TA\"), \n",
    "                  (\"KitchenQual\",\"TA\"),\n",
    "                  (\"MSZoning\", \"None\"),\n",
    "                  (\"Exterior1st\", \"VinylSd\"), \n",
    "                  (\"Exterior2nd\", \"VinylSd\"), \n",
    "                  (\"SaleType\", \"WD\")]"
   ]
  },
  {
   "cell_type": "code",
   "execution_count": 23,
   "id": "21356d8e-94bc-4a16-ba9f-0a80b13cc044",
   "metadata": {},
   "outputs": [],
   "source": [
    "def none_transform(df, conversion_list):\n",
    "    ''' Function that converts missing categorical values \n",
    "    into specific strings according to \"conversion_list\" \n",
    "    \n",
    "    Returns the dataframe after transformation.\n",
    "    '''\n",
    "    for col, new_str in conversion_list:\n",
    "        df.loc[:, col] = df.loc[:, col].fillna(new_str)\n",
    "    return df\n",
    "\n",
    "# Applying the \"none_transform\" function \n",
    "all_data = none_transform(all_data, none_conversion)"
   ]
  },
  {
   "cell_type": "code",
   "execution_count": 24,
   "id": "2b7fd1ab",
   "metadata": {},
   "outputs": [],
   "source": [
    "class OrderedLabelTransformer(BaseEstimator, TransformerMixin):\n",
    "    orderDict = {\"NA\" : 0, \"Po\" : 1, \"Fa\" : 2, \"TA\" : 3, \"Gd\" : 4, \"Ex\" : 5}\n",
    "    \n",
    "    @staticmethod\n",
    "    def get_dict(X):\n",
    "        FirstDict = {\"Po\" : 0, \"Fa\" : 1, \"TA\" : 2, \"Gd\" : 3, \"Ex\" : 4}\n",
    "        SecondDict = {\"NA\" : 0, \"Po\" : 1, \"Fa\" : 2, \"TA\" : 3, \"Gd\" : 4, \"Ex\" : 5}\n",
    "        ThirdDict = {\"NA\" : 0, \"Fa\" : 1, \"TA\" : 2, \"Gd\" : 3, \"Ex\" : 4}\n",
    "        for d in [FirstDict, SecondDict, ThirdDict]:\n",
    "            if set(X) == set(d): \n",
    "                return d\n",
    "    \n",
    "    def fit(self, X, y=None):\n",
    "        return self\n",
    "    \n",
    "    def transform(self, X):\n",
    "        def get_label(t):\n",
    "            return self.orderDict[t]\n",
    "        return np.array([get_label(n) for n in X])"
   ]
  },
  {
   "cell_type": "code",
   "execution_count": 25,
   "id": "790d0c32",
   "metadata": {},
   "outputs": [],
   "source": [
    "class NeighborhoodTransformer(BaseEstimator, TransformerMixin):\n",
    "    neighborhoodsmap = {'StoneBr' : 2, 'NridgHt' : 2, 'NoRidge': 2, \n",
    "                        'MeadowV' : 0, 'IDOTRR' : 0, 'BrDale' : 0 ,\n",
    "                        'CollgCr': 1, 'Veenker' : 1, 'Crawfor' : 1,\n",
    "                        'Mitchel' : 1, 'Somerst' : 1, 'NWAmes' : 1,\n",
    "                        'OldTown' : 1, 'BrkSide' : 1, 'Sawyer' : 1, \n",
    "                        'NAmes' : 1, 'SawyerW' : 1, 'Edwards' : 1,\n",
    "                        'Timber' : 1, 'Gilbert' : 1, 'ClearCr' : 1,\n",
    "                        'NPkVill' : 1, 'Blmngtn' : 1, 'SWISU' : 1,\n",
    "                        'Blueste': 1}\n",
    "\n",
    "    def fit(self, X, y=None):\n",
    "        return self\n",
    "    \n",
    "    def transform(self, X):\n",
    "        def get_label(t):\n",
    "            return self.neighborhoodsmap[t]\n",
    "        return np.array([get_label(n) for [n] in X])"
   ]
  },
  {
   "cell_type": "code",
   "execution_count": 26,
   "id": "e9717287",
   "metadata": {},
   "outputs": [],
   "source": [
    "# Generating features:\n",
    "order_feats = [\"ExterQual\", \"ExterCond\", \"HeatingQC\", \"KitchenQual\", \"BsmtQual\", \n",
    "               \"BsmtCond\", \"FireplaceQu\", \"GarageQual\", \"GarageCond\"]\n",
    "\n",
    "original_features_df = all_data[order_feats + ['Neighborhood']] # we need to save original values for one-hot encoding\n",
    "\n",
    "order_features = sklearn_pandas.gen_features(order_feats, [OrderedLabelTransformer])\n",
    "neighb_features = [(['Neighborhood'], [NeighborhoodTransformer()])]\n",
    "\n",
    "# Pipeline\n",
    "label_encoder = sklearn_pandas.DataFrameMapper(neighb_features + order_features)\n",
    "\n",
    "# The list with order of column names\n",
    "cols = [\"Neighborhood\"] + order_feats\n",
    "\n",
    "# Transformation both train and test set\n",
    "transformed_feats = label_encoder.fit_transform(all_data)\n",
    "\n",
    "# Putting transformed features into dataframe\n",
    "transformed_df = pd.DataFrame(transformed_feats, index=all_data.index, columns=cols)"
   ]
  },
  {
   "cell_type": "code",
   "execution_count": 27,
   "id": "88d69377-0912-40c9-983e-39d0acac7e59",
   "metadata": {},
   "outputs": [],
   "source": [
    "# feature without any transformation till now\n",
    "rest_features = set(pd.concat([imputed_df, original_features_df],axis=1).columns).symmetric_difference(set(all_data.columns))\n",
    "rest_features_df = all_data[list(rest_features)]\n",
    "\n",
    "all_data = pd.concat([imputed_df, original_features_df, rest_features_df],axis=1)"
   ]
  },
  {
   "cell_type": "code",
   "execution_count": 28,
   "id": "5cca2fec-1c0e-4ca6-892a-874e3e5edf1d",
   "metadata": {},
   "outputs": [
    {
     "data": {
      "text/html": [
       "<div>\n",
       "<style scoped>\n",
       "    .dataframe tbody tr th:only-of-type {\n",
       "        vertical-align: middle;\n",
       "    }\n",
       "\n",
       "    .dataframe tbody tr th {\n",
       "        vertical-align: top;\n",
       "    }\n",
       "\n",
       "    .dataframe thead th {\n",
       "        text-align: right;\n",
       "    }\n",
       "</style>\n",
       "<table border=\"1\" class=\"dataframe\">\n",
       "  <thead>\n",
       "    <tr style=\"text-align: right;\">\n",
       "      <th></th>\n",
       "      <th>LotFrontage</th>\n",
       "      <th>LotArea</th>\n",
       "      <th>OverallQual</th>\n",
       "      <th>YearBuilt</th>\n",
       "      <th>YearRemodAdd</th>\n",
       "      <th>BsmtUnfSF</th>\n",
       "      <th>TotalBsmtSF</th>\n",
       "      <th>1stFlrSF</th>\n",
       "      <th>2ndFlrSF</th>\n",
       "      <th>LowQualFinSF</th>\n",
       "      <th>...</th>\n",
       "      <th>BsmtFinType1</th>\n",
       "      <th>Exterior1st</th>\n",
       "      <th>SaleCondition</th>\n",
       "      <th>OverallCond</th>\n",
       "      <th>GarageType</th>\n",
       "      <th>GarageFinish</th>\n",
       "      <th>SaleType</th>\n",
       "      <th>LandContour</th>\n",
       "      <th>MasVnrType</th>\n",
       "      <th>RoofMatl</th>\n",
       "    </tr>\n",
       "  </thead>\n",
       "  <tbody>\n",
       "    <tr>\n",
       "      <th>0</th>\n",
       "      <td>65.0</td>\n",
       "      <td>8450.0</td>\n",
       "      <td>7.0</td>\n",
       "      <td>2003.0</td>\n",
       "      <td>2003.0</td>\n",
       "      <td>150.0</td>\n",
       "      <td>856.0</td>\n",
       "      <td>856.0</td>\n",
       "      <td>854.0</td>\n",
       "      <td>0.0</td>\n",
       "      <td>...</td>\n",
       "      <td>GLQ</td>\n",
       "      <td>VinylSd</td>\n",
       "      <td>Normal</td>\n",
       "      <td>5</td>\n",
       "      <td>Attchd</td>\n",
       "      <td>RFn</td>\n",
       "      <td>WD</td>\n",
       "      <td>Lvl</td>\n",
       "      <td>BrkFace</td>\n",
       "      <td>CompShg</td>\n",
       "    </tr>\n",
       "    <tr>\n",
       "      <th>1</th>\n",
       "      <td>80.0</td>\n",
       "      <td>9600.0</td>\n",
       "      <td>6.0</td>\n",
       "      <td>1976.0</td>\n",
       "      <td>1976.0</td>\n",
       "      <td>284.0</td>\n",
       "      <td>1262.0</td>\n",
       "      <td>1262.0</td>\n",
       "      <td>0.0</td>\n",
       "      <td>0.0</td>\n",
       "      <td>...</td>\n",
       "      <td>ALQ</td>\n",
       "      <td>MetalSd</td>\n",
       "      <td>Normal</td>\n",
       "      <td>8</td>\n",
       "      <td>Attchd</td>\n",
       "      <td>RFn</td>\n",
       "      <td>WD</td>\n",
       "      <td>Lvl</td>\n",
       "      <td>None</td>\n",
       "      <td>CompShg</td>\n",
       "    </tr>\n",
       "    <tr>\n",
       "      <th>2</th>\n",
       "      <td>68.0</td>\n",
       "      <td>11250.0</td>\n",
       "      <td>7.0</td>\n",
       "      <td>2001.0</td>\n",
       "      <td>2002.0</td>\n",
       "      <td>434.0</td>\n",
       "      <td>920.0</td>\n",
       "      <td>920.0</td>\n",
       "      <td>866.0</td>\n",
       "      <td>0.0</td>\n",
       "      <td>...</td>\n",
       "      <td>GLQ</td>\n",
       "      <td>VinylSd</td>\n",
       "      <td>Normal</td>\n",
       "      <td>5</td>\n",
       "      <td>Attchd</td>\n",
       "      <td>RFn</td>\n",
       "      <td>WD</td>\n",
       "      <td>Lvl</td>\n",
       "      <td>BrkFace</td>\n",
       "      <td>CompShg</td>\n",
       "    </tr>\n",
       "    <tr>\n",
       "      <th>3</th>\n",
       "      <td>60.0</td>\n",
       "      <td>9550.0</td>\n",
       "      <td>7.0</td>\n",
       "      <td>1915.0</td>\n",
       "      <td>1970.0</td>\n",
       "      <td>540.0</td>\n",
       "      <td>756.0</td>\n",
       "      <td>961.0</td>\n",
       "      <td>756.0</td>\n",
       "      <td>0.0</td>\n",
       "      <td>...</td>\n",
       "      <td>ALQ</td>\n",
       "      <td>Wd Sdng</td>\n",
       "      <td>Abnorml</td>\n",
       "      <td>5</td>\n",
       "      <td>Detchd</td>\n",
       "      <td>Unf</td>\n",
       "      <td>WD</td>\n",
       "      <td>Lvl</td>\n",
       "      <td>None</td>\n",
       "      <td>CompShg</td>\n",
       "    </tr>\n",
       "    <tr>\n",
       "      <th>4</th>\n",
       "      <td>84.0</td>\n",
       "      <td>14260.0</td>\n",
       "      <td>8.0</td>\n",
       "      <td>2000.0</td>\n",
       "      <td>2000.0</td>\n",
       "      <td>490.0</td>\n",
       "      <td>1145.0</td>\n",
       "      <td>1145.0</td>\n",
       "      <td>1053.0</td>\n",
       "      <td>0.0</td>\n",
       "      <td>...</td>\n",
       "      <td>GLQ</td>\n",
       "      <td>VinylSd</td>\n",
       "      <td>Normal</td>\n",
       "      <td>5</td>\n",
       "      <td>Attchd</td>\n",
       "      <td>RFn</td>\n",
       "      <td>WD</td>\n",
       "      <td>Lvl</td>\n",
       "      <td>BrkFace</td>\n",
       "      <td>CompShg</td>\n",
       "    </tr>\n",
       "    <tr>\n",
       "      <th>...</th>\n",
       "      <td>...</td>\n",
       "      <td>...</td>\n",
       "      <td>...</td>\n",
       "      <td>...</td>\n",
       "      <td>...</td>\n",
       "      <td>...</td>\n",
       "      <td>...</td>\n",
       "      <td>...</td>\n",
       "      <td>...</td>\n",
       "      <td>...</td>\n",
       "      <td>...</td>\n",
       "      <td>...</td>\n",
       "      <td>...</td>\n",
       "      <td>...</td>\n",
       "      <td>...</td>\n",
       "      <td>...</td>\n",
       "      <td>...</td>\n",
       "      <td>...</td>\n",
       "      <td>...</td>\n",
       "      <td>...</td>\n",
       "      <td>...</td>\n",
       "    </tr>\n",
       "    <tr>\n",
       "      <th>2914</th>\n",
       "      <td>21.0</td>\n",
       "      <td>1936.0</td>\n",
       "      <td>4.0</td>\n",
       "      <td>1970.0</td>\n",
       "      <td>1970.0</td>\n",
       "      <td>546.0</td>\n",
       "      <td>546.0</td>\n",
       "      <td>546.0</td>\n",
       "      <td>546.0</td>\n",
       "      <td>0.0</td>\n",
       "      <td>...</td>\n",
       "      <td>Unf</td>\n",
       "      <td>CemntBd</td>\n",
       "      <td>Normal</td>\n",
       "      <td>7</td>\n",
       "      <td>No</td>\n",
       "      <td>No</td>\n",
       "      <td>WD</td>\n",
       "      <td>Lvl</td>\n",
       "      <td>None</td>\n",
       "      <td>CompShg</td>\n",
       "    </tr>\n",
       "    <tr>\n",
       "      <th>2915</th>\n",
       "      <td>21.0</td>\n",
       "      <td>1894.0</td>\n",
       "      <td>4.0</td>\n",
       "      <td>1970.0</td>\n",
       "      <td>1970.0</td>\n",
       "      <td>294.0</td>\n",
       "      <td>546.0</td>\n",
       "      <td>546.0</td>\n",
       "      <td>546.0</td>\n",
       "      <td>0.0</td>\n",
       "      <td>...</td>\n",
       "      <td>Rec</td>\n",
       "      <td>CemntBd</td>\n",
       "      <td>Abnorml</td>\n",
       "      <td>5</td>\n",
       "      <td>CarPort</td>\n",
       "      <td>Unf</td>\n",
       "      <td>WD</td>\n",
       "      <td>Lvl</td>\n",
       "      <td>None</td>\n",
       "      <td>CompShg</td>\n",
       "    </tr>\n",
       "    <tr>\n",
       "      <th>2916</th>\n",
       "      <td>160.0</td>\n",
       "      <td>20000.0</td>\n",
       "      <td>5.0</td>\n",
       "      <td>1960.0</td>\n",
       "      <td>1996.0</td>\n",
       "      <td>0.0</td>\n",
       "      <td>1224.0</td>\n",
       "      <td>1224.0</td>\n",
       "      <td>0.0</td>\n",
       "      <td>0.0</td>\n",
       "      <td>...</td>\n",
       "      <td>ALQ</td>\n",
       "      <td>VinylSd</td>\n",
       "      <td>Abnorml</td>\n",
       "      <td>7</td>\n",
       "      <td>Detchd</td>\n",
       "      <td>Unf</td>\n",
       "      <td>WD</td>\n",
       "      <td>Lvl</td>\n",
       "      <td>None</td>\n",
       "      <td>CompShg</td>\n",
       "    </tr>\n",
       "    <tr>\n",
       "      <th>2917</th>\n",
       "      <td>62.0</td>\n",
       "      <td>10441.0</td>\n",
       "      <td>5.0</td>\n",
       "      <td>1992.0</td>\n",
       "      <td>1992.0</td>\n",
       "      <td>575.0</td>\n",
       "      <td>912.0</td>\n",
       "      <td>970.0</td>\n",
       "      <td>0.0</td>\n",
       "      <td>0.0</td>\n",
       "      <td>...</td>\n",
       "      <td>GLQ</td>\n",
       "      <td>HdBoard</td>\n",
       "      <td>Normal</td>\n",
       "      <td>5</td>\n",
       "      <td>No</td>\n",
       "      <td>No</td>\n",
       "      <td>WD</td>\n",
       "      <td>Lvl</td>\n",
       "      <td>None</td>\n",
       "      <td>CompShg</td>\n",
       "    </tr>\n",
       "    <tr>\n",
       "      <th>2918</th>\n",
       "      <td>74.0</td>\n",
       "      <td>9627.0</td>\n",
       "      <td>7.0</td>\n",
       "      <td>1993.0</td>\n",
       "      <td>1994.0</td>\n",
       "      <td>238.0</td>\n",
       "      <td>996.0</td>\n",
       "      <td>996.0</td>\n",
       "      <td>1004.0</td>\n",
       "      <td>0.0</td>\n",
       "      <td>...</td>\n",
       "      <td>LwQ</td>\n",
       "      <td>HdBoard</td>\n",
       "      <td>Normal</td>\n",
       "      <td>5</td>\n",
       "      <td>Attchd</td>\n",
       "      <td>Fin</td>\n",
       "      <td>WD</td>\n",
       "      <td>Lvl</td>\n",
       "      <td>BrkFace</td>\n",
       "      <td>CompShg</td>\n",
       "    </tr>\n",
       "  </tbody>\n",
       "</table>\n",
       "<p>2919 rows × 78 columns</p>\n",
       "</div>"
      ],
      "text/plain": [
       "      LotFrontage  LotArea  OverallQual  YearBuilt  YearRemodAdd  BsmtUnfSF  \\\n",
       "0            65.0   8450.0          7.0     2003.0        2003.0      150.0   \n",
       "1            80.0   9600.0          6.0     1976.0        1976.0      284.0   \n",
       "2            68.0  11250.0          7.0     2001.0        2002.0      434.0   \n",
       "3            60.0   9550.0          7.0     1915.0        1970.0      540.0   \n",
       "4            84.0  14260.0          8.0     2000.0        2000.0      490.0   \n",
       "...           ...      ...          ...        ...           ...        ...   \n",
       "2914         21.0   1936.0          4.0     1970.0        1970.0      546.0   \n",
       "2915         21.0   1894.0          4.0     1970.0        1970.0      294.0   \n",
       "2916        160.0  20000.0          5.0     1960.0        1996.0        0.0   \n",
       "2917         62.0  10441.0          5.0     1992.0        1992.0      575.0   \n",
       "2918         74.0   9627.0          7.0     1993.0        1994.0      238.0   \n",
       "\n",
       "      TotalBsmtSF  1stFlrSF  2ndFlrSF  LowQualFinSF  ...  BsmtFinType1  \\\n",
       "0           856.0     856.0     854.0           0.0  ...           GLQ   \n",
       "1          1262.0    1262.0       0.0           0.0  ...           ALQ   \n",
       "2           920.0     920.0     866.0           0.0  ...           GLQ   \n",
       "3           756.0     961.0     756.0           0.0  ...           ALQ   \n",
       "4          1145.0    1145.0    1053.0           0.0  ...           GLQ   \n",
       "...           ...       ...       ...           ...  ...           ...   \n",
       "2914        546.0     546.0     546.0           0.0  ...           Unf   \n",
       "2915        546.0     546.0     546.0           0.0  ...           Rec   \n",
       "2916       1224.0    1224.0       0.0           0.0  ...           ALQ   \n",
       "2917        912.0     970.0       0.0           0.0  ...           GLQ   \n",
       "2918        996.0     996.0    1004.0           0.0  ...           LwQ   \n",
       "\n",
       "      Exterior1st  SaleCondition  OverallCond  GarageType  GarageFinish  \\\n",
       "0         VinylSd         Normal            5      Attchd           RFn   \n",
       "1         MetalSd         Normal            8      Attchd           RFn   \n",
       "2         VinylSd         Normal            5      Attchd           RFn   \n",
       "3         Wd Sdng        Abnorml            5      Detchd           Unf   \n",
       "4         VinylSd         Normal            5      Attchd           RFn   \n",
       "...           ...            ...          ...         ...           ...   \n",
       "2914      CemntBd         Normal            7          No            No   \n",
       "2915      CemntBd        Abnorml            5     CarPort           Unf   \n",
       "2916      VinylSd        Abnorml            7      Detchd           Unf   \n",
       "2917      HdBoard         Normal            5          No            No   \n",
       "2918      HdBoard         Normal            5      Attchd           Fin   \n",
       "\n",
       "      SaleType  LandContour  MasVnrType  RoofMatl  \n",
       "0           WD          Lvl     BrkFace   CompShg  \n",
       "1           WD          Lvl        None   CompShg  \n",
       "2           WD          Lvl     BrkFace   CompShg  \n",
       "3           WD          Lvl        None   CompShg  \n",
       "4           WD          Lvl     BrkFace   CompShg  \n",
       "...        ...          ...         ...       ...  \n",
       "2914        WD          Lvl        None   CompShg  \n",
       "2915        WD          Lvl        None   CompShg  \n",
       "2916        WD          Lvl        None   CompShg  \n",
       "2917        WD          Lvl        None   CompShg  \n",
       "2918        WD          Lvl     BrkFace   CompShg  \n",
       "\n",
       "[2919 rows x 78 columns]"
      ]
     },
     "execution_count": 28,
     "metadata": {},
     "output_type": "execute_result"
    }
   ],
   "source": [
    "all_data"
   ]
  },
  {
   "cell_type": "code",
   "execution_count": 29,
   "id": "5ca725a8-2fbc-447b-b1d2-1b53d12a89ce",
   "metadata": {},
   "outputs": [],
   "source": [
    "# Total Squere Feet for house\n",
    "all_data[\"TotalSqrtFeet\"] = all_data[\"GrLivArea\"] + all_data[\"TotalBsmtSF\"]\n",
    "# test_df[\"TotalSqrtFeet\"] = test_df[\"GrLivArea\"] + test_df[\"TotalBsmtSF\"]\n",
    "\n",
    "# Total number of bathrooms\n",
    "all_data[\"TotalBaths\"] = all_data[\"BsmtFullBath\"] + (all_data[\"BsmtHalfBath\"]  * .5) + all_data[\"FullBath\"] + (all_data[\"HalfBath\"]* .5)\n",
    "# test_df[\"TotalBaths\"] = test_df[\"BsmtFullBath\"] + (test_df[\"BsmtHalfBath\"]  * .5) + test_df[\"FullBath\"] + (test_df[\"HalfBath\"]* .5)\n",
    "\n",
    "# If the house has a garage\n",
    "all_data['Isgarage'] = all_data['GarageArea'].apply(lambda x: 1 if x > 0 else 0)\n",
    "\n",
    "# If the house has a fireplace\n",
    "all_data['Isfireplace'] = all_data['Fireplaces'].apply(lambda x: 1 if x > 0 else 0)\n",
    "\n",
    "# If the house has a pool\n",
    "all_data['Ispool'] = all_data['PoolArea'].apply(lambda x: 1 if x > 0 else 0)\n",
    "\n",
    "# If the house has second floor\n",
    "all_data['Issecondfloor'] = all_data['2ndFlrSF'].apply(lambda x: 1 if x > 0 else 0)\n",
    "\n",
    "# If the house has Open Porch\n",
    "all_data['IsOpenPorch'] = all_data['OpenPorchSF'].apply(lambda x: 1 if x > 0 else 0)\n",
    "\n",
    "# If the house has Wood Deck\n",
    "all_data['IsWoodDeck'] = all_data['WoodDeckSF'].apply(lambda x: 1 if x > 0 else 0)"
   ]
  },
  {
   "cell_type": "code",
   "execution_count": 30,
   "id": "3b8abb9d-b107-4882-8bf7-ba44ee323c8e",
   "metadata": {},
   "outputs": [
    {
     "data": {
      "text/plain": [
       "(2919, 324)"
      ]
     },
     "execution_count": 30,
     "metadata": {},
     "output_type": "execute_result"
    }
   ],
   "source": [
    "all_data = all_data.drop([\"SalePrice\"], axis = 1)\n",
    "\n",
    "hot_one_features = pd.get_dummies(all_data).reset_index(drop=True)\n",
    "hot_one_features.shape"
   ]
  },
  {
   "cell_type": "code",
   "execution_count": 31,
   "id": "95f41c0a-5d73-4c0c-b11c-687f9ad19214",
   "metadata": {},
   "outputs": [],
   "source": [
    "all_data = pd.concat([transformed_df, hot_one_features],axis=1)"
   ]
  },
  {
   "cell_type": "code",
   "execution_count": 32,
   "id": "34acf9f6-5d89-41f6-a11d-b5f75250aa2c",
   "metadata": {},
   "outputs": [
    {
     "name": "stdout",
     "output_type": "stream",
     "text": [
      "True\n"
     ]
    }
   ],
   "source": [
    "train_preprocessed = all_data.iloc[:len(train_df),:]\n",
    "test_preprocessed = all_data.iloc[len(train_preprocessed):,:]\n",
    "print(len(test_preprocessed) == len(test_df))"
   ]
  },
  {
   "cell_type": "code",
   "execution_count": null,
   "id": "04e879c2-ed77-4fd9-8fbb-d609d1bee1a7",
   "metadata": {},
   "outputs": [],
   "source": []
  },
  {
   "cell_type": "code",
   "execution_count": 33,
   "id": "6e5c53c1-9b8d-416a-9a71-5ba1724b7fd3",
   "metadata": {},
   "outputs": [],
   "source": [
    "X_train = train_preprocessed"
   ]
  },
  {
   "cell_type": "code",
   "execution_count": 34,
   "id": "56cf05da-9d20-46d1-8027-bec8cc73f670",
   "metadata": {},
   "outputs": [],
   "source": [
    "from sklearn.linear_model import Ridge, RidgeCV, ElasticNet, LassoCV, LassoLarsCV\n",
    "from sklearn.model_selection import cross_val_score, KFold\n",
    "from sklearn.pipeline import make_pipeline\n",
    "from sklearn.preprocessing import RobustScaler\n",
    "from sklearn.ensemble import RandomForestRegressor, GradientBoostingRegressor\n",
    "from sklearn.model_selection import GridSearchCV\n",
    "import xgboost as xgb\n",
    "\n",
    "from sklearn.linear_model import ElasticNet, Lasso, ElasticNetCV\n",
    "from sklearn.ensemble import  GradientBoostingRegressor\n",
    "from sklearn.kernel_ridge import KernelRidge\n",
    "from sklearn.base import RegressorMixin\n",
    "import lightgbm as lgb"
   ]
  },
  {
   "cell_type": "code",
   "execution_count": 35,
   "id": "199baa04-bb36-4bfc-a5cc-708c85c1b0fa",
   "metadata": {},
   "outputs": [],
   "source": [
    "from sklearn.metrics import mean_squared_error, mean_absolute_error, r2_score"
   ]
  },
  {
   "cell_type": "code",
   "execution_count": 36,
   "id": "16fe3a84-81d5-466d-a9c9-24361a4e4ed7",
   "metadata": {},
   "outputs": [],
   "source": [
    "def rmse(model):\n",
    "    n_folds=5\n",
    "    kfold = KFold(n_folds, random_state=42, shuffle=True).get_n_splits(X_train)\n",
    "    rmse_score = np.sqrt(-cross_val_score(model, X_train, y_train, scoring = \"neg_mean_squared_error\", cv = kfold, n_jobs=-1))\n",
    "    return(np.mean(rmse_score))"
   ]
  },
  {
   "cell_type": "code",
   "execution_count": 37,
   "id": "f01bc058-6803-41cc-b9a5-2e8c62f8d798",
   "metadata": {},
   "outputs": [
    {
     "name": "stdout",
     "output_type": "stream",
     "text": [
      "Mean Squared Error = 0.00858436\n",
      "RMSE score for Linear Regression: 30732.238\n",
      "0.9430994650954478\n"
     ]
    }
   ],
   "source": [
    "lr_model = make_pipeline(RobustScaler(), LinearRegression()) \n",
    "\n",
    "lr_model.fit(X_train, y_train)\n",
    "y_train_pred = lr_model.predict(X_train)\n",
    "MSE_train = np.mean((y_train_pred - y_train)**2)\n",
    "\n",
    "print(\"Mean Squared Error = {:.8f}\".format(MSE_train))\n",
    "print(\"RMSE score for Linear Regression: {:.3f}\".format(rmse(lr_model)))\n",
    "print(r2_score(y_train_pred, y_train))"
   ]
  },
  {
   "cell_type": "code",
   "execution_count": null,
   "id": "6869959c-5976-40f0-a0e0-20e293a20b53",
   "metadata": {},
   "outputs": [],
   "source": []
  },
  {
   "cell_type": "code",
   "execution_count": 38,
   "id": "c945974d-868d-4fdb-927e-ce9393981f57",
   "metadata": {},
   "outputs": [
    {
     "name": "stdout",
     "output_type": "stream",
     "text": [
      "Mean Squared Error = 0.01197439\n",
      "RMSE score for LASSO: 0.135\n",
      "0.916305243730673\n"
     ]
    }
   ],
   "source": [
    "lasso_model = make_pipeline(RobustScaler(), \n",
    "                         LassoCV(alphas = [0.0004, 0.0005, 0.0006],\n",
    "                                 random_state = 0,\n",
    "                                 cv = 10))\n",
    "\n",
    "lasso_model.fit(X_train, y_train)\n",
    "\n",
    "y_train_pred = lasso_model.predict(X_train)\n",
    "MSE_train = np.mean((y_train_pred - y_train)**2)\n",
    "\n",
    "# print(\"Best alpha : {}\", lasso_model.alpha_)\n",
    "print(\"Mean Squared Error = {:.8f}\".format(MSE_train))\n",
    "print(\"RMSE score for LASSO: {:.3f}\".format(rmse(lasso_model)))\n",
    "print(r2_score(y_train_pred, y_train))"
   ]
  },
  {
   "cell_type": "code",
   "execution_count": 39,
   "id": "7d53c5b8-776c-4ad9-9d71-5a018cd2462d",
   "metadata": {},
   "outputs": [
    {
     "data": {
      "text/html": [
       "<style>#sk-container-id-1 {color: black;}#sk-container-id-1 pre{padding: 0;}#sk-container-id-1 div.sk-toggleable {background-color: white;}#sk-container-id-1 label.sk-toggleable__label {cursor: pointer;display: block;width: 100%;margin-bottom: 0;padding: 0.3em;box-sizing: border-box;text-align: center;}#sk-container-id-1 label.sk-toggleable__label-arrow:before {content: \"▸\";float: left;margin-right: 0.25em;color: #696969;}#sk-container-id-1 label.sk-toggleable__label-arrow:hover:before {color: black;}#sk-container-id-1 div.sk-estimator:hover label.sk-toggleable__label-arrow:before {color: black;}#sk-container-id-1 div.sk-toggleable__content {max-height: 0;max-width: 0;overflow: hidden;text-align: left;background-color: #f0f8ff;}#sk-container-id-1 div.sk-toggleable__content pre {margin: 0.2em;color: black;border-radius: 0.25em;background-color: #f0f8ff;}#sk-container-id-1 input.sk-toggleable__control:checked~div.sk-toggleable__content {max-height: 200px;max-width: 100%;overflow: auto;}#sk-container-id-1 input.sk-toggleable__control:checked~label.sk-toggleable__label-arrow:before {content: \"▾\";}#sk-container-id-1 div.sk-estimator input.sk-toggleable__control:checked~label.sk-toggleable__label {background-color: #d4ebff;}#sk-container-id-1 div.sk-label input.sk-toggleable__control:checked~label.sk-toggleable__label {background-color: #d4ebff;}#sk-container-id-1 input.sk-hidden--visually {border: 0;clip: rect(1px 1px 1px 1px);clip: rect(1px, 1px, 1px, 1px);height: 1px;margin: -1px;overflow: hidden;padding: 0;position: absolute;width: 1px;}#sk-container-id-1 div.sk-estimator {font-family: monospace;background-color: #f0f8ff;border: 1px dotted black;border-radius: 0.25em;box-sizing: border-box;margin-bottom: 0.5em;}#sk-container-id-1 div.sk-estimator:hover {background-color: #d4ebff;}#sk-container-id-1 div.sk-parallel-item::after {content: \"\";width: 100%;border-bottom: 1px solid gray;flex-grow: 1;}#sk-container-id-1 div.sk-label:hover label.sk-toggleable__label {background-color: #d4ebff;}#sk-container-id-1 div.sk-serial::before {content: \"\";position: absolute;border-left: 1px solid gray;box-sizing: border-box;top: 0;bottom: 0;left: 50%;z-index: 0;}#sk-container-id-1 div.sk-serial {display: flex;flex-direction: column;align-items: center;background-color: white;padding-right: 0.2em;padding-left: 0.2em;position: relative;}#sk-container-id-1 div.sk-item {position: relative;z-index: 1;}#sk-container-id-1 div.sk-parallel {display: flex;align-items: stretch;justify-content: center;background-color: white;position: relative;}#sk-container-id-1 div.sk-item::before, #sk-container-id-1 div.sk-parallel-item::before {content: \"\";position: absolute;border-left: 1px solid gray;box-sizing: border-box;top: 0;bottom: 0;left: 50%;z-index: -1;}#sk-container-id-1 div.sk-parallel-item {display: flex;flex-direction: column;z-index: 1;position: relative;background-color: white;}#sk-container-id-1 div.sk-parallel-item:first-child::after {align-self: flex-end;width: 50%;}#sk-container-id-1 div.sk-parallel-item:last-child::after {align-self: flex-start;width: 50%;}#sk-container-id-1 div.sk-parallel-item:only-child::after {width: 0;}#sk-container-id-1 div.sk-dashed-wrapped {border: 1px dashed gray;margin: 0 0.4em 0.5em 0.4em;box-sizing: border-box;padding-bottom: 0.4em;background-color: white;}#sk-container-id-1 div.sk-label label {font-family: monospace;font-weight: bold;display: inline-block;line-height: 1.2em;}#sk-container-id-1 div.sk-label-container {text-align: center;}#sk-container-id-1 div.sk-container {/* jupyter's `normalize.less` sets `[hidden] { display: none; }` but bootstrap.min.css set `[hidden] { display: none !important; }` so we also need the `!important` here to be able to override the default hidden behavior on the sphinx rendered scikit-learn.org. See: https://github.com/scikit-learn/scikit-learn/issues/21755 */display: inline-block !important;position: relative;}#sk-container-id-1 div.sk-text-repr-fallback {display: none;}</style><div id=\"sk-container-id-1\" class=\"sk-top-container\"><div class=\"sk-text-repr-fallback\"><pre>GridSearchCV(cv=5, estimator=GradientBoostingRegressor(random_state=0),\n",
       "             n_jobs=1,\n",
       "             param_grid={&#x27;learning_rate&#x27;: [0.05], &#x27;max_depth&#x27;: [5],\n",
       "                         &#x27;max_features&#x27;: [13], &#x27;n_estimators&#x27;: [2500],\n",
       "                         &#x27;random_state&#x27;: [5], &#x27;subsample&#x27;: [0.8]})</pre><b>In a Jupyter environment, please rerun this cell to show the HTML representation or trust the notebook. <br />On GitHub, the HTML representation is unable to render, please try loading this page with nbviewer.org.</b></div><div class=\"sk-container\" hidden><div class=\"sk-item sk-dashed-wrapped\"><div class=\"sk-label-container\"><div class=\"sk-label sk-toggleable\"><input class=\"sk-toggleable__control sk-hidden--visually\" id=\"sk-estimator-id-1\" type=\"checkbox\" ><label for=\"sk-estimator-id-1\" class=\"sk-toggleable__label sk-toggleable__label-arrow\">GridSearchCV</label><div class=\"sk-toggleable__content\"><pre>GridSearchCV(cv=5, estimator=GradientBoostingRegressor(random_state=0),\n",
       "             n_jobs=1,\n",
       "             param_grid={&#x27;learning_rate&#x27;: [0.05], &#x27;max_depth&#x27;: [5],\n",
       "                         &#x27;max_features&#x27;: [13], &#x27;n_estimators&#x27;: [2500],\n",
       "                         &#x27;random_state&#x27;: [5], &#x27;subsample&#x27;: [0.8]})</pre></div></div></div><div class=\"sk-parallel\"><div class=\"sk-parallel-item\"><div class=\"sk-item\"><div class=\"sk-label-container\"><div class=\"sk-label sk-toggleable\"><input class=\"sk-toggleable__control sk-hidden--visually\" id=\"sk-estimator-id-2\" type=\"checkbox\" ><label for=\"sk-estimator-id-2\" class=\"sk-toggleable__label sk-toggleable__label-arrow\">estimator: GradientBoostingRegressor</label><div class=\"sk-toggleable__content\"><pre>GradientBoostingRegressor(random_state=0)</pre></div></div></div><div class=\"sk-serial\"><div class=\"sk-item\"><div class=\"sk-estimator sk-toggleable\"><input class=\"sk-toggleable__control sk-hidden--visually\" id=\"sk-estimator-id-3\" type=\"checkbox\" ><label for=\"sk-estimator-id-3\" class=\"sk-toggleable__label sk-toggleable__label-arrow\">GradientBoostingRegressor</label><div class=\"sk-toggleable__content\"><pre>GradientBoostingRegressor(random_state=0)</pre></div></div></div></div></div></div></div></div></div></div>"
      ],
      "text/plain": [
       "GridSearchCV(cv=5, estimator=GradientBoostingRegressor(random_state=0),\n",
       "             n_jobs=1,\n",
       "             param_grid={'learning_rate': [0.05], 'max_depth': [5],\n",
       "                         'max_features': [13], 'n_estimators': [2500],\n",
       "                         'random_state': [5], 'subsample': [0.8]})"
      ]
     },
     "execution_count": 39,
     "metadata": {},
     "output_type": "execute_result"
    }
   ],
   "source": [
    "gbr = GradientBoostingRegressor(random_state=0)\n",
    "param_grid = {'n_estimators': [2500],\n",
    "              'max_features': [13],\n",
    "              'max_depth': [5],\n",
    "              'learning_rate': [0.05],\n",
    "              'subsample': [0.8],\n",
    "             'random_state' : [5]}\n",
    "                              \n",
    "gb_model = GridSearchCV(estimator=gbr, param_grid=param_grid, n_jobs=1, cv=5)\n",
    "gb_model.fit(X_train, y_train)"
   ]
  },
  {
   "cell_type": "code",
   "execution_count": 62,
   "id": "63e7ba54-e9a8-453f-a71a-fbcbcac27917",
   "metadata": {},
   "outputs": [
    {
     "name": "stdout",
     "output_type": "stream",
     "text": [
      "Best Parameters: {'learning_rate': 0.05, 'max_depth': 5, 'max_features': 13, 'n_estimators': 2500, 'random_state': 5, 'subsample': 0.8}\n",
      "Mean Squared Error = 0.00000976\n",
      "RMSE score for GB: 0.123\n",
      "0.9999386823763886\n"
     ]
    }
   ],
   "source": [
    "y_train_pred = gb_model.predict(X_train)\n",
    "MSE_train = np.mean((y_train_pred - y_train)**2)\n",
    "print('Best Parameters: {}'.format(gb_model.best_params_))\n",
    "print(\"Mean Squared Error = {:.8f}\".format(MSE_train))\n",
    "print(\"RMSE score for GB: {:.3f}\".format(rmse(gb_model)))\n",
    "print(r2_score(y_train_pred, y_train))"
   ]
  },
  {
   "cell_type": "code",
   "execution_count": 53,
   "id": "f8612259-1349-4608-b11d-f04316b54f16",
   "metadata": {},
   "outputs": [
    {
     "name": "stdout",
     "output_type": "stream",
     "text": [
      "\n",
      "\n",
      "Best Parameters: {'colsample_bytree': 0.45, 'learning_rate': 0.05, 'max_depth': 3, 'n_estimators': 2000, 'subsample': 0.8}\n",
      "Mean Squared Error = 0.00050283\n",
      "RMSE score for XGB: 0.118\n"
     ]
    }
   ],
   "source": [
    "xgbreg = xgb.XGBRegressor(seed=0)\n",
    "param_grid2 = {'n_estimators': [2000], \n",
    "              'learning_rate': [0.05],\n",
    "              'max_depth': [3, 7],\n",
    "              'subsample': [0.8],\n",
    "              'colsample_bytree': [0.45, 0.75]}\n",
    "    \n",
    "xgb_model = GridSearchCV(estimator=xgbreg, param_grid=param_grid2, n_jobs=1, cv=10)\n",
    "xgb_model.fit(X_train, y_train)\n",
    "\n",
    "y_train_pred = xgb_model.predict(X_train)\n",
    "MSE_train = np.mean((y_train_pred - y_train)**2)\n",
    "\n",
    "print('\\n\\nBest Parameters: {}'.format(xgb_model.best_params_))\n",
    "print(\"Mean Squared Error = {:.8f}\".format(MSE_train))\n",
    "print(\"RMSE score for XGB: {:.3f}\".format(rmse(xgb_model)))"
   ]
  },
  {
   "cell_type": "code",
   "execution_count": 54,
   "id": "ef415147-384e-4b0d-80f6-0d6db00c5230",
   "metadata": {},
   "outputs": [],
   "source": [
    "en_model = ElasticNetCV(alphas = [0.0001, 0.0003, 0.0004, 0.0006], \n",
    "                        l1_ratio = [.9, .92], \n",
    "                        random_state = 0,\n",
    "                        cv=10)"
   ]
  },
  {
   "cell_type": "code",
   "execution_count": 55,
   "id": "7b20a6e0-83f2-4e71-a8b0-5b471567bcab",
   "metadata": {},
   "outputs": [],
   "source": [
    "en_model.fit(X_train, y_train)\n",
    "\n",
    "y_train_pred = en_model.predict(X_train)\n",
    "MSE_train = np.mean((y_train_pred - y_train)**2)"
   ]
  },
  {
   "cell_type": "code",
   "execution_count": 56,
   "id": "48450633-41a6-4fcf-9b75-d86d225179fb",
   "metadata": {},
   "outputs": [
    {
     "name": "stdout",
     "output_type": "stream",
     "text": [
      "Mean Squared Error = 0.01171991\n",
      "RMSE score for ElasticNet: 0.136\n"
     ]
    }
   ],
   "source": [
    "print(\"Mean Squared Error = {:.8f}\".format(MSE_train))\n",
    "print(\"RMSE score for ElasticNet: {:.3f}\".format(rmse(en_model)))"
   ]
  },
  {
   "cell_type": "code",
   "execution_count": 57,
   "id": "d8399a0b-262e-4a5f-b8aa-4324d23f8a91",
   "metadata": {},
   "outputs": [
    {
     "name": "stdout",
     "output_type": "stream",
     "text": [
      "[LightGBM] [Warning] min_data_in_leaf is set=6, min_child_samples=20 will be ignored. Current value: min_data_in_leaf=6\n",
      "[LightGBM] [Warning] feature_fraction is set=0.2, colsample_bytree=1.0 will be ignored. Current value: feature_fraction=0.2\n",
      "[LightGBM] [Warning] min_sum_hessian_in_leaf is set=11, min_child_weight=0.001 will be ignored. Current value: min_sum_hessian_in_leaf=11\n",
      "[LightGBM] [Warning] bagging_fraction is set=0.8, subsample=1.0 will be ignored. Current value: bagging_fraction=0.8\n",
      "[LightGBM] [Warning] bagging_freq is set=5, subsample_freq=0 will be ignored. Current value: bagging_freq=5\n",
      "[LightGBM] [Warning] Found whitespace in feature_names, replace with underlines\n",
      "[LightGBM] [Warning] min_data_in_leaf is set=6, min_child_samples=20 will be ignored. Current value: min_data_in_leaf=6\n",
      "[LightGBM] [Warning] feature_fraction is set=0.2, colsample_bytree=1.0 will be ignored. Current value: feature_fraction=0.2\n",
      "[LightGBM] [Warning] min_sum_hessian_in_leaf is set=11, min_child_weight=0.001 will be ignored. Current value: min_sum_hessian_in_leaf=11\n",
      "[LightGBM] [Warning] bagging_fraction is set=0.8, subsample=1.0 will be ignored. Current value: bagging_fraction=0.8\n",
      "[LightGBM] [Warning] bagging_freq is set=5, subsample_freq=0 will be ignored. Current value: bagging_freq=5\n",
      "[LightGBM] [Info] Auto-choosing row-wise multi-threading, the overhead of testing was 0.003850 seconds.\n",
      "You can set `force_row_wise=true` to remove the overhead.\n",
      "And if memory is not enough, you can set `force_col_wise=true`.\n",
      "[LightGBM] [Info] Total Bins 1643\n",
      "[LightGBM] [Info] Number of data points in the train set: 1460, number of used features: 277\n",
      "[LightGBM] [Info] Start training from score 12.024057\n",
      "[LightGBM] [Warning] min_data_in_leaf is set=6, min_child_samples=20 will be ignored. Current value: min_data_in_leaf=6\n",
      "[LightGBM] [Warning] feature_fraction is set=0.2, colsample_bytree=1.0 will be ignored. Current value: feature_fraction=0.2\n",
      "[LightGBM] [Warning] min_sum_hessian_in_leaf is set=11, min_child_weight=0.001 will be ignored. Current value: min_sum_hessian_in_leaf=11\n",
      "[LightGBM] [Warning] bagging_fraction is set=0.8, subsample=1.0 will be ignored. Current value: bagging_fraction=0.8\n",
      "[LightGBM] [Warning] bagging_freq is set=5, subsample_freq=0 will be ignored. Current value: bagging_freq=5\n",
      "Mean Squared Error = 0.00532406\n",
      "RMSE score for LGBMRegressor: 0.1231\n"
     ]
    }
   ],
   "source": [
    "lgb_model = lgb.LGBMRegressor(objective='regression', num_leaves=5,\n",
    "                              learning_rate=0.05, n_estimators=800,\n",
    "                              max_bin = 55, bagging_fraction = 0.8,\n",
    "                              bagging_freq = 5, feature_fraction = 0.2,\n",
    "                              feature_fraction_seed=9, bagging_seed=9,\n",
    "                              min_data_in_leaf =6, min_sum_hessian_in_leaf = 11)\n",
    "\n",
    "lgb_model.fit(X_train, y_train)\n",
    "\n",
    "y_train_pred = lgb_model.predict(X_train)\n",
    "MSE_train = np.mean((y_train_pred - y_train)**2)\n",
    "\n",
    "print(\"Mean Squared Error = {:.8f}\".format(MSE_train))\n",
    "print(\"RMSE score for LGBMRegressor: {:.4f}\".format(rmse(lgb_model)))"
   ]
  },
  {
   "cell_type": "code",
   "execution_count": null,
   "id": "7fe7a368-78e0-4d3e-8ffa-129adaf7e32b",
   "metadata": {},
   "outputs": [],
   "source": []
  },
  {
   "cell_type": "code",
   "execution_count": null,
   "id": "011622e8-8f5f-4538-b362-9f1f51143057",
   "metadata": {},
   "outputs": [],
   "source": []
  },
  {
   "cell_type": "code",
   "execution_count": null,
   "id": "6155118e",
   "metadata": {},
   "outputs": [],
   "source": []
  }
 ],
 "metadata": {
  "kernelspec": {
   "display_name": "Python 3 (ipykernel)",
   "language": "python",
   "name": "python3"
  },
  "language_info": {
   "codemirror_mode": {
    "name": "ipython",
    "version": 3
   },
   "file_extension": ".py",
   "mimetype": "text/x-python",
   "name": "python",
   "nbconvert_exporter": "python",
   "pygments_lexer": "ipython3",
   "version": "3.11.5"
  }
 },
 "nbformat": 4,
 "nbformat_minor": 5
}
